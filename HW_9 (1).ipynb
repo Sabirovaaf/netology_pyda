{
 "cells": [
  {
   "cell_type": "code",
   "execution_count": null,
   "metadata": {},
   "outputs": [],
   "source": [
    "Задание 1\n",
    "Напишите функцию date_range, которая возвращает список дней между датами \n",
    "start_date и end_date. Даты должны вводиться в формате YYYY-MM-DD."
   ]
  },
  {
   "cell_type": "code",
   "execution_count": 24,
   "metadata": {},
   "outputs": [
    {
     "name": "stdout",
     "output_type": "stream",
     "text": [
      "Введите дату начала в формате YYYY-MM-DD 2016-05-06\n",
      "Введите дату окончания в формате YYYY-MM-DD 2016-04-05\n"
     ]
    }
   ],
   "source": [
    "from datetime import timedelta\n",
    "start_date = input('Введите дату начала в формате YYYY-MM-DD ')\n",
    "end_date = input('Введите дату окончания в формате YYYY-MM-DD ')\n",
    "start_date_dt = datetime.strptime(start_date, '%Y-%m-%d')\n",
    "end_date_dt = datetime.strptime(end_date, '%Y-%m-%d')\n",
    "current_dt = start_date_dt\n",
    "\n",
    "while current_dt <= end_date_dt:\n",
    "    print(current_dt.strftime('%Y-%m-%d'))\n",
    "    \n",
    "    current_dt += timedelta(days=1)\n"
   ]
  },
  {
   "cell_type": "code",
   "execution_count": 6,
   "metadata": {},
   "outputs": [],
   "source": [
    "#Задание 2\n",
    "#Дополните функцию из первого задания проверкой на корректность дат. В случае неверного формата или если \n",
    "#start_date > end_date должен возвращаться пустой список."
   ]
  },
  {
   "cell_type": "code",
   "execution_count": 34,
   "metadata": {},
   "outputs": [
    {
     "name": "stdout",
     "output_type": "stream",
     "text": [
      "Введите дату начала в формате YYYY-MM-DD 2016-05-04\n",
      "Введите дату окончания в формате YYYY-MM-DD 2016-02-03\n",
      "None\n"
     ]
    },
    {
     "name": "stderr",
     "output_type": "stream",
     "text": [
      "NoneType: None\n"
     ]
    }
   ],
   "source": [
    "import traceback\n",
    "\n",
    "try:\n",
    "    start_date = input('Введите дату начала в формате YYYY-MM-DD ')\n",
    "    end_date = input('Введите дату окончания в формате YYYY-MM-DD ')\n",
    "    start_date_dt = datetime.strptime(start_date, '%Y-%m-%d')\n",
    "    end_date_dt = datetime.strptime(end_date, '%Y-%m-%d')\n",
    "    current_dt = start_date_dt\n",
    "    if start_date < end_date:\n",
    "        while current_dt <= end_date_dt:\n",
    "            print(current_dt.strftime('%Y-%m-%d'))\n",
    "    \n",
    "            current_dt += timedelta(days=1)\n",
    "    else: \n",
    "        print(traceback.print_exc())\n",
    "except Exception:\n",
    "    print(traceback.print_exc())"
   ]
  },
  {
   "cell_type": "code",
   "execution_count": null,
   "metadata": {},
   "outputs": [],
   "source": [
    "Задание 3\n",
    "Дан поток дат в формате YYYY-MM-DD, в которых встречаются некорректные значения:\n",
    "stream = [‘2018-04-02’, ‘2018-02-29’, ‘2018-19-02’]\n",
    "Напишите функцию, которая проверяет эти даты на корректность. \n",
    "Т. е. для каждой даты возвращает True (дата корректна) или False (некорректная дата)."
   ]
  },
  {
   "cell_type": "code",
   "execution_count": 4,
   "metadata": {},
   "outputs": [
    {
     "name": "stdout",
     "output_type": "stream",
     "text": [
      "True\n",
      "False\n",
      "False\n"
     ]
    }
   ],
   "source": [
    "from datetime import datetime\n",
    "import traceback\n",
    "stream = ['2018-04-02', '2018-02-29', '2018-19-02']\n",
    "for i in stream:\n",
    "    try:\n",
    "        stream_datetime=datetime.strptime (i, '%Y-%m-%d')\n",
    "        print (True)\n",
    "    except Exception:\n",
    "        print (False)\n"
   ]
  },
  {
   "cell_type": "code",
   "execution_count": null,
   "metadata": {},
   "outputs": [],
   "source": [
    "Задание 5\n",
    "В последнем примере поиска по словарю мы использовали 3 столбца. \n",
    "Напишите функцию, которая формирует словарь для поиска по n столбцам."
   ]
  },
  {
   "cell_type": "code",
   "execution_count": 6,
   "metadata": {},
   "outputs": [
    {
     "data": {
      "text/html": [
       "<div>\n",
       "<style scoped>\n",
       "    .dataframe tbody tr th:only-of-type {\n",
       "        vertical-align: middle;\n",
       "    }\n",
       "\n",
       "    .dataframe tbody tr th {\n",
       "        vertical-align: top;\n",
       "    }\n",
       "\n",
       "    .dataframe thead th {\n",
       "        text-align: right;\n",
       "    }\n",
       "</style>\n",
       "<table border=\"1\" class=\"dataframe\">\n",
       "  <thead>\n",
       "    <tr style=\"text-align: right;\">\n",
       "      <th></th>\n",
       "      <th>day_number</th>\n",
       "      <th>user_id</th>\n",
       "      <th>category</th>\n",
       "      <th>cost</th>\n",
       "    </tr>\n",
       "  </thead>\n",
       "  <tbody>\n",
       "    <tr>\n",
       "      <th>0</th>\n",
       "      <td>14</td>\n",
       "      <td>26376</td>\n",
       "      <td>3</td>\n",
       "      <td>13301</td>\n",
       "    </tr>\n",
       "    <tr>\n",
       "      <th>1</th>\n",
       "      <td>12</td>\n",
       "      <td>7316</td>\n",
       "      <td>2</td>\n",
       "      <td>19329</td>\n",
       "    </tr>\n",
       "    <tr>\n",
       "      <th>2</th>\n",
       "      <td>28</td>\n",
       "      <td>2803</td>\n",
       "      <td>2</td>\n",
       "      <td>87381</td>\n",
       "    </tr>\n",
       "    <tr>\n",
       "      <th>3</th>\n",
       "      <td>25</td>\n",
       "      <td>22022</td>\n",
       "      <td>2</td>\n",
       "      <td>94036</td>\n",
       "    </tr>\n",
       "    <tr>\n",
       "      <th>4</th>\n",
       "      <td>20</td>\n",
       "      <td>13883</td>\n",
       "      <td>5</td>\n",
       "      <td>50722</td>\n",
       "    </tr>\n",
       "  </tbody>\n",
       "</table>\n",
       "</div>"
      ],
      "text/plain": [
       "   day_number  user_id  category   cost\n",
       "0          14    26376         3  13301\n",
       "1          12     7316         2  19329\n",
       "2          28     2803         2  87381\n",
       "3          25    22022         2  94036\n",
       "4          20    13883         5  50722"
      ]
     },
     "execution_count": 6,
     "metadata": {},
     "output_type": "execute_result"
    }
   ],
   "source": [
    "import pandas as pd\n",
    "stats = pd.read_csv(r'C:\\Users\\af.sabirova\\Desktop\\pyda\\9_lek\\stats.csv', names=['day_number', 'user_id', 'category', 'cost'])\n",
    "stats.head()"
   ]
  },
  {
   "cell_type": "code",
   "execution_count": 2,
   "metadata": {},
   "outputs": [
    {
     "name": "stdout",
     "output_type": "stream",
     "text": [
      "Введите количество столбцов 3\n",
      "Введите значение первого столбца 14\n",
      "Введите значение второго столбца 26376\n",
      "Введите значение третьего столбца 3\n",
      "13301\n"
     ]
    }
   ],
   "source": [
    "import traceback\n",
    "stats_dict = {}\n",
    "n = input('Введите количество столбцов ')\n",
    "a= input('Введите значение первого столбца ')\n",
    "b= input('Введите значение второго столбца ')\n",
    "c= input('Введите значение третьего столбца ')\n",
    "line_to_find = (a, b, c)\n",
    "try:\n",
    "    def search (line_to_find):\n",
    "        with open(r'C:\\Users\\af.sabirova\\Desktop\\pyda\\9_lek\\stats.csv') as f:\n",
    "            for line in f:\n",
    "                line = line.strip().split(',')\n",
    "                stats_dict[tuple(line[:3])] = line[3]\n",
    "            cost=stats_dict[line_to_find]\n",
    "            print(cost)\n",
    "    search(line_to_find)\n",
    "except Exception:\n",
    "    print(traceback.print_exc())"
   ]
  },
  {
   "cell_type": "code",
   "execution_count": null,
   "metadata": {},
   "outputs": [],
   "source": []
  }
 ],
 "metadata": {
  "kernelspec": {
   "display_name": "Python 3",
   "language": "python",
   "name": "python3"
  }
 },
 "nbformat": 4,
 "nbformat_minor": 2
}
