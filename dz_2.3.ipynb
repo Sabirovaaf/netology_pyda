{
  "nbformat": 4,
  "nbformat_minor": 0,
  "metadata": {
    "colab": {
      "name": "dz_3.ipynb",
      "provenance": [],
      "collapsed_sections": [],
      "toc_visible": true
    },
    "kernelspec": {
      "name": "python3",
      "display_name": "Python 3"
    }
  },
  "cells": [
    {
      "cell_type": "markdown",
      "metadata": {
        "id": "9wqpiQR2AbtX",
        "colab_type": "text"
      },
      "source": [
        "# Домашнее задание №3"
      ]
    },
    {
      "cell_type": "code",
      "metadata": {
        "id": "Zo_j9HCKCPgi",
        "colab_type": "code",
        "colab": {}
      },
      "source": [
        "import numpy as np\n",
        "from scipy.stats import t\n",
        "from scipy.stats import norm\n",
        "import matplotlib.pyplot as plt\n",
        "from scipy import stats\n",
        "import pandas as pd\n",
        "import io\n",
        "import requests\n",
        "import seaborn as sns\n",
        "\n",
        "%matplotlib inline"
      ],
      "execution_count": 0,
      "outputs": []
    },
    {
      "cell_type": "markdown",
      "metadata": {
        "id": "LrhPyaIACZsb",
        "colab_type": "text"
      },
      "source": [
        "Таблица Indian liver pations records."
      ]
    },
    {
      "cell_type": "code",
      "metadata": {
        "id": "LQWcltRn-vZc",
        "colab_type": "code",
        "outputId": "69d15179-7785-4a6c-8d17-961b7f6fe082",
        "colab": {
          "base_uri": "https://localhost:8080/",
          "height": 204
        }
      },
      "source": [
        "url=\"http://yustiks.ru/dataset/indian_liver_patient.csv\"\n",
        "data=pd.read_csv(url)\n",
        "data.head()"
      ],
      "execution_count": 30,
      "outputs": [
        {
          "output_type": "execute_result",
          "data": {
            "text/html": [
              "<div>\n",
              "<style scoped>\n",
              "    .dataframe tbody tr th:only-of-type {\n",
              "        vertical-align: middle;\n",
              "    }\n",
              "\n",
              "    .dataframe tbody tr th {\n",
              "        vertical-align: top;\n",
              "    }\n",
              "\n",
              "    .dataframe thead th {\n",
              "        text-align: right;\n",
              "    }\n",
              "</style>\n",
              "<table border=\"1\" class=\"dataframe\">\n",
              "  <thead>\n",
              "    <tr style=\"text-align: right;\">\n",
              "      <th></th>\n",
              "      <th>Age</th>\n",
              "      <th>Gender</th>\n",
              "      <th>Total_Bilirubin</th>\n",
              "      <th>Direct_Bilirubin</th>\n",
              "      <th>Alkaline_Phosphotase</th>\n",
              "      <th>Alamine_Aminotransferase</th>\n",
              "      <th>Aspartate_Aminotransferase</th>\n",
              "      <th>Total_Protiens</th>\n",
              "      <th>Albumin</th>\n",
              "      <th>Albumin_and_Globulin_Ratio</th>\n",
              "      <th>Dataset</th>\n",
              "    </tr>\n",
              "  </thead>\n",
              "  <tbody>\n",
              "    <tr>\n",
              "      <th>0</th>\n",
              "      <td>65</td>\n",
              "      <td>Female</td>\n",
              "      <td>0.7</td>\n",
              "      <td>0.1</td>\n",
              "      <td>187</td>\n",
              "      <td>16</td>\n",
              "      <td>18</td>\n",
              "      <td>6.8</td>\n",
              "      <td>3.3</td>\n",
              "      <td>0.90</td>\n",
              "      <td>1</td>\n",
              "    </tr>\n",
              "    <tr>\n",
              "      <th>1</th>\n",
              "      <td>62</td>\n",
              "      <td>Male</td>\n",
              "      <td>10.9</td>\n",
              "      <td>5.5</td>\n",
              "      <td>699</td>\n",
              "      <td>64</td>\n",
              "      <td>100</td>\n",
              "      <td>7.5</td>\n",
              "      <td>3.2</td>\n",
              "      <td>0.74</td>\n",
              "      <td>1</td>\n",
              "    </tr>\n",
              "    <tr>\n",
              "      <th>2</th>\n",
              "      <td>62</td>\n",
              "      <td>Male</td>\n",
              "      <td>7.3</td>\n",
              "      <td>4.1</td>\n",
              "      <td>490</td>\n",
              "      <td>60</td>\n",
              "      <td>68</td>\n",
              "      <td>7.0</td>\n",
              "      <td>3.3</td>\n",
              "      <td>0.89</td>\n",
              "      <td>1</td>\n",
              "    </tr>\n",
              "    <tr>\n",
              "      <th>3</th>\n",
              "      <td>58</td>\n",
              "      <td>Male</td>\n",
              "      <td>1.0</td>\n",
              "      <td>0.4</td>\n",
              "      <td>182</td>\n",
              "      <td>14</td>\n",
              "      <td>20</td>\n",
              "      <td>6.8</td>\n",
              "      <td>3.4</td>\n",
              "      <td>1.00</td>\n",
              "      <td>1</td>\n",
              "    </tr>\n",
              "    <tr>\n",
              "      <th>4</th>\n",
              "      <td>72</td>\n",
              "      <td>Male</td>\n",
              "      <td>3.9</td>\n",
              "      <td>2.0</td>\n",
              "      <td>195</td>\n",
              "      <td>27</td>\n",
              "      <td>59</td>\n",
              "      <td>7.3</td>\n",
              "      <td>2.4</td>\n",
              "      <td>0.40</td>\n",
              "      <td>1</td>\n",
              "    </tr>\n",
              "  </tbody>\n",
              "</table>\n",
              "</div>"
            ],
            "text/plain": [
              "   Age  Gender  Total_Bilirubin  ...  Albumin  Albumin_and_Globulin_Ratio  Dataset\n",
              "0   65  Female              0.7  ...      3.3                        0.90        1\n",
              "1   62    Male             10.9  ...      3.2                        0.74        1\n",
              "2   62    Male              7.3  ...      3.3                        0.89        1\n",
              "3   58    Male              1.0  ...      3.4                        1.00        1\n",
              "4   72    Male              3.9  ...      2.4                        0.40        1\n",
              "\n",
              "[5 rows x 11 columns]"
            ]
          },
          "metadata": {
            "tags": []
          },
          "execution_count": 30
        }
      ]
    },
    {
      "cell_type": "markdown",
      "metadata": {
        "id": "XyNNmtvIDDy3",
        "colab_type": "text"
      },
      "source": [
        "Columns:\n",
        "\n",
        "*  Age of the patient\n",
        "*  Gender of the patient\n",
        "*  Total Bilirubin\n",
        "*  Direct Bilirubin\n",
        "*  Alkaline Phosphotase\n",
        "*  Alamine Aminotransferase\n",
        "*  Aspartate Aminotransferase\n",
        "*  Total Protiens\n",
        "*  Albumin\n",
        "*  Albumin and Globulin Ratio\n",
        "*  Dataset: field used to split the data into two sets (patient with liver disease, or no disease)\n"
      ]
    },
    {
      "cell_type": "markdown",
      "metadata": {
        "id": "3v0ZWcBVSOXK",
        "colab_type": "text"
      },
      "source": [
        "Построить одномерную линейную регрессию Direct_Bilirubin и Total_Bilirubin. Построить график. Строим прямую с помощью уравнения которое мы посчитали. Предсказать несколько элементов из таблицы с помощью метода predict() и сравнить с результатом табличным."
      ]
    },
    {
      "cell_type": "code",
      "metadata": {
        "id": "sdYwxXAFaYEh",
        "colab_type": "code",
        "colab": {
          "base_uri": "https://localhost:8080/",
          "height": 51
        },
        "outputId": "ba2b6701-53af-449f-a9dd-41f434b8b3a6"
      },
      "source": [
        "from sklearn.linear_model import LinearRegression\n",
        "Direct_Bilirubin = data['Direct_Bilirubin']\n",
        "Total_Bilirubin = data['Total_Bilirubin']\n",
        "model = LinearRegression()\n",
        "result = model.fit(np.array(Total_Bilirubin).reshape(-1,1), Direct_Bilirubin)\n",
        "\n",
        "print('intercept:', model.intercept_)\n",
        "\n",
        "print('slope:', model.coef_)"
      ],
      "execution_count": 7,
      "outputs": [
        {
          "output_type": "stream",
          "text": [
            "intercept: 0.18116743679724934\n",
            "slope: [0.39557996]\n"
          ],
          "name": "stdout"
        }
      ]
    },
    {
      "cell_type": "code",
      "metadata": {
        "id": "HUYGdmVVa3UM",
        "colab_type": "code",
        "colab": {
          "base_uri": "https://localhost:8080/",
          "height": 296
        },
        "outputId": "fb956816-f21e-4d2a-b03d-49971d0e86a9"
      },
      "source": [
        "plt.xlabel('Total_Bilirubin')\n",
        "plt.ylabel('Direct_Bilirubin')\n",
        "plt.title('Линейная регрессия')\n",
        "x = np.linspace(min(Total_Bilirubin), max(Total_Bilirubin), 100)\n",
        "y = model.coef_*x + model.intercept_\n",
        "plt.plot(x,y)\n",
        "plt.plot(Total_Bilirubin, Direct_Bilirubin, 'r.')\n",
        "plt.show()"
      ],
      "execution_count": 8,
      "outputs": [
        {
          "output_type": "display_data",
          "data": {
            "image/png": "[encoded data removed]",
            "text/plain": [
              "<Figure size 432x288 with 1 Axes>"
            ]
          },
          "metadata": {
            "tags": []
          }
        }
      ]
    },
    {
      "cell_type": "code",
      "metadata": {
        "id": "lxNdAzvFbT0l",
        "colab_type": "code",
        "colab": {
          "base_uri": "https://localhost:8080/",
          "height": 34
        },
        "outputId": "333ad7c4-b77c-47b6-dd37-479134203e17"
      },
      "source": [
        "model.predict(np.array([1.0]).reshape(-1, 1))"
      ],
      "execution_count": 14,
      "outputs": [
        {
          "output_type": "execute_result",
          "data": {
            "text/plain": [
              "array([0.5767474])"
            ]
          },
          "metadata": {
            "tags": []
          },
          "execution_count": 14
        }
      ]
    },
    {
      "cell_type": "markdown",
      "metadata": {
        "id": "kRKRK6y1b-S3",
        "colab_type": "text"
      },
      "source": [
        "Если сравнить полученный результат с табличным, то можно заметить, что предсказанный результат не значительно отличается от табличных, следовательно, можно ориентироваться на полученные результаты по predict."
      ]
    },
    {
      "cell_type": "markdown",
      "metadata": {
        "id": "bv5rdcvPSi_O",
        "colab_type": "text"
      },
      "source": [
        "Построить многомерную линейную регрессию для предсказания болезни (Dataset) от двух параметров. Параметры подобрать с помощью матрицы корреляций. Предсказать несколько значений из таблицы и сравнить результат модели от табличного значения."
      ]
    },
    {
      "cell_type": "code",
      "metadata": {
        "id": "bpfPEETHcbw_",
        "colab_type": "code",
        "colab": {
          "base_uri": "https://localhost:8080/",
          "height": 837
        },
        "outputId": "ac5c3209-8b2d-4409-e42f-d779d3957621"
      },
      "source": [
        "sns.heatmap(data.corr(),annot=True,cmap='RdYlGn',linewidths=0.2) #data.corr()-->correlation matrix\n",
        "fig=plt.gcf()\n",
        "fig.set_size_inches(12,12)\n",
        "plt.show()"
      ],
      "execution_count": 15,
      "outputs": [
        {
          "output_type": "display_data",
          "data": {
            "image/png": "[encoded data removed]",
            "text/plain": [
              "<Figure size 864x864 with 2 Axes>"
            ]
          },
          "metadata": {
            "tags": []
          }
        }
      ]
    },
    {
      "cell_type": "code",
      "metadata": {
        "id": "OOVgoJNiewaq",
        "colab_type": "code",
        "colab": {}
      },
      "source": [
        "data= data.dropna(subset=['Albumin'])\n",
        "data= data.dropna(subset=['Total_Protiens'])\n",
        "data= data.dropna(subset=['Dataset'])"
      ],
      "execution_count": 0,
      "outputs": []
    },
    {
      "cell_type": "code",
      "metadata": {
        "id": "RM5KfLwldFoV",
        "colab_type": "code",
        "colab": {
          "base_uri": "https://localhost:8080/",
          "height": 85
        },
        "outputId": "64571efc-6cf3-474f-db18-7c4174caac91"
      },
      "source": [
        "Albumin = data['Albumin']\n",
        "Total_Protiens = data['Total_Protiens']\n",
        "Dataset = data['Dataset']\n",
        "x = np.vstack([np.array(Albumin), np.array(Total_Protiens)]).T\n",
        "print('x - это двумерная матрица, где колонки - это Albumin и Total_Protiens : ')\n",
        "print(x[:3])\n",
        "y = np.array(Dataset)\n",
        "model = LinearRegression().fit(x, y)"
      ],
      "execution_count": 21,
      "outputs": [
        {
          "output_type": "stream",
          "text": [
            "x - это двумерная матрица, где колонки - это Albumin и Total_Protiens : \n",
            "[[3.3 6.8]\n",
            " [3.2 7.5]\n",
            " [3.3 7. ]]\n"
          ],
          "name": "stdout"
        }
      ]
    },
    {
      "cell_type": "code",
      "metadata": {
        "id": "AaVzy23hfeLj",
        "colab_type": "code",
        "colab": {
          "base_uri": "https://localhost:8080/",
          "height": 51
        },
        "outputId": "3592b7b0-b3b9-4de6-cf36-92907b228c71"
      },
      "source": [
        "print('intercept:', model.intercept_)\n",
        "\n",
        "print('slope:', model.coef_)"
      ],
      "execution_count": 22,
      "outputs": [
        {
          "output_type": "stream",
          "text": [
            "intercept: 1.3078943399307645\n",
            "slope: [ 0.19623349 -0.0985548 ]\n"
          ],
          "name": "stdout"
        }
      ]
    },
    {
      "cell_type": "markdown",
      "metadata": {
        "id": "KYi2mnF8fpAs",
        "colab_type": "text"
      },
      "source": [
        "Можно заметить, что переменная Dataset сильнее зависит от Albumin (0.196) и слабо зависит от Total_Protiens (-0,098)"
      ]
    },
    {
      "cell_type": "code",
      "metadata": {
        "id": "6T7Q2moDg0lP",
        "colab_type": "code",
        "colab": {
          "base_uri": "https://localhost:8080/",
          "height": 34
        },
        "outputId": "e895297c-a14a-4899-cc2c-a05994744042"
      },
      "source": [
        "print('Предсказание модели: ', model.predict(x[0:2]))"
      ],
      "execution_count": 23,
      "outputs": [
        {
          "output_type": "stream",
          "text": [
            "Предсказание модели:  [1.2852922  1.19668048]\n"
          ],
          "name": "stdout"
        }
      ]
    },
    {
      "cell_type": "markdown",
      "metadata": {
        "id": "ubi7IVjkhGLg",
        "colab_type": "text"
      },
      "source": [
        "Согласно предсказаниям первые 2 пациента больны, что соответствует табличным значениям"
      ]
    },
    {
      "cell_type": "markdown",
      "metadata": {
        "id": "ZWc_9uF3PQIo",
        "colab_type": "text"
      },
      "source": [
        "Посчитать квартили для всех колонок. "
      ]
    },
    {
      "cell_type": "code",
      "metadata": {
        "id": "zYGQB2MXiCBt",
        "colab_type": "code",
        "colab": {
          "base_uri": "https://localhost:8080/",
          "height": 317
        },
        "outputId": "7226b1a8-15d6-41b4-bda1-bae850be0b80"
      },
      "source": [
        "data.describe()"
      ],
      "execution_count": 25,
      "outputs": [
        {
          "output_type": "execute_result",
          "data": {
            "text/html": [
              "<div>\n",
              "<style scoped>\n",
              "    .dataframe tbody tr th:only-of-type {\n",
              "        vertical-align: middle;\n",
              "    }\n",
              "\n",
              "    .dataframe tbody tr th {\n",
              "        vertical-align: top;\n",
              "    }\n",
              "\n",
              "    .dataframe thead th {\n",
              "        text-align: right;\n",
              "    }\n",
              "</style>\n",
              "<table border=\"1\" class=\"dataframe\">\n",
              "  <thead>\n",
              "    <tr style=\"text-align: right;\">\n",
              "      <th></th>\n",
              "      <th>Age</th>\n",
              "      <th>Total_Bilirubin</th>\n",
              "      <th>Direct_Bilirubin</th>\n",
              "      <th>Alkaline_Phosphotase</th>\n",
              "      <th>Alamine_Aminotransferase</th>\n",
              "      <th>Aspartate_Aminotransferase</th>\n",
              "      <th>Total_Protiens</th>\n",
              "      <th>Albumin</th>\n",
              "      <th>Albumin_and_Globulin_Ratio</th>\n",
              "      <th>Dataset</th>\n",
              "    </tr>\n",
              "  </thead>\n",
              "  <tbody>\n",
              "    <tr>\n",
              "      <th>count</th>\n",
              "      <td>579.000000</td>\n",
              "      <td>579.000000</td>\n",
              "      <td>579.000000</td>\n",
              "      <td>579.000000</td>\n",
              "      <td>579.000000</td>\n",
              "      <td>579.000000</td>\n",
              "      <td>579.000000</td>\n",
              "      <td>579.000000</td>\n",
              "      <td>579.000000</td>\n",
              "      <td>579.000000</td>\n",
              "    </tr>\n",
              "    <tr>\n",
              "      <th>mean</th>\n",
              "      <td>44.782383</td>\n",
              "      <td>3.315371</td>\n",
              "      <td>1.494128</td>\n",
              "      <td>291.366149</td>\n",
              "      <td>81.126079</td>\n",
              "      <td>110.414508</td>\n",
              "      <td>6.481693</td>\n",
              "      <td>3.138515</td>\n",
              "      <td>0.947064</td>\n",
              "      <td>1.284974</td>\n",
              "    </tr>\n",
              "    <tr>\n",
              "      <th>std</th>\n",
              "      <td>16.221786</td>\n",
              "      <td>6.227716</td>\n",
              "      <td>2.816499</td>\n",
              "      <td>243.561863</td>\n",
              "      <td>183.182845</td>\n",
              "      <td>289.850034</td>\n",
              "      <td>1.084641</td>\n",
              "      <td>0.794435</td>\n",
              "      <td>0.319592</td>\n",
              "      <td>0.451792</td>\n",
              "    </tr>\n",
              "    <tr>\n",
              "      <th>min</th>\n",
              "      <td>4.000000</td>\n",
              "      <td>0.400000</td>\n",
              "      <td>0.100000</td>\n",
              "      <td>63.000000</td>\n",
              "      <td>10.000000</td>\n",
              "      <td>10.000000</td>\n",
              "      <td>2.700000</td>\n",
              "      <td>0.900000</td>\n",
              "      <td>0.300000</td>\n",
              "      <td>1.000000</td>\n",
              "    </tr>\n",
              "    <tr>\n",
              "      <th>25%</th>\n",
              "      <td>33.000000</td>\n",
              "      <td>0.800000</td>\n",
              "      <td>0.200000</td>\n",
              "      <td>175.500000</td>\n",
              "      <td>23.000000</td>\n",
              "      <td>25.000000</td>\n",
              "      <td>5.800000</td>\n",
              "      <td>2.600000</td>\n",
              "      <td>0.700000</td>\n",
              "      <td>1.000000</td>\n",
              "    </tr>\n",
              "    <tr>\n",
              "      <th>50%</th>\n",
              "      <td>45.000000</td>\n",
              "      <td>1.000000</td>\n",
              "      <td>0.300000</td>\n",
              "      <td>208.000000</td>\n",
              "      <td>35.000000</td>\n",
              "      <td>42.000000</td>\n",
              "      <td>6.600000</td>\n",
              "      <td>3.100000</td>\n",
              "      <td>0.930000</td>\n",
              "      <td>1.000000</td>\n",
              "    </tr>\n",
              "    <tr>\n",
              "      <th>75%</th>\n",
              "      <td>58.000000</td>\n",
              "      <td>2.600000</td>\n",
              "      <td>1.300000</td>\n",
              "      <td>298.000000</td>\n",
              "      <td>61.000000</td>\n",
              "      <td>87.000000</td>\n",
              "      <td>7.200000</td>\n",
              "      <td>3.800000</td>\n",
              "      <td>1.100000</td>\n",
              "      <td>2.000000</td>\n",
              "    </tr>\n",
              "    <tr>\n",
              "      <th>max</th>\n",
              "      <td>90.000000</td>\n",
              "      <td>75.000000</td>\n",
              "      <td>19.700000</td>\n",
              "      <td>2110.000000</td>\n",
              "      <td>2000.000000</td>\n",
              "      <td>4929.000000</td>\n",
              "      <td>9.600000</td>\n",
              "      <td>5.500000</td>\n",
              "      <td>2.800000</td>\n",
              "      <td>2.000000</td>\n",
              "    </tr>\n",
              "  </tbody>\n",
              "</table>\n",
              "</div>"
            ],
            "text/plain": [
              "              Age  Total_Bilirubin  ...  Albumin_and_Globulin_Ratio     Dataset\n",
              "count  579.000000       579.000000  ...                  579.000000  579.000000\n",
              "mean    44.782383         3.315371  ...                    0.947064    1.284974\n",
              "std     16.221786         6.227716  ...                    0.319592    0.451792\n",
              "min      4.000000         0.400000  ...                    0.300000    1.000000\n",
              "25%     33.000000         0.800000  ...                    0.700000    1.000000\n",
              "50%     45.000000         1.000000  ...                    0.930000    1.000000\n",
              "75%     58.000000         2.600000  ...                    1.100000    2.000000\n",
              "max     90.000000        75.000000  ...                    2.800000    2.000000\n",
              "\n",
              "[8 rows x 10 columns]"
            ]
          },
          "metadata": {
            "tags": []
          },
          "execution_count": 25
        }
      ]
    },
    {
      "cell_type": "markdown",
      "metadata": {
        "id": "7kwq4rqzOoz1",
        "colab_type": "text"
      },
      "source": [
        "Построить график histogram двух выборок по наличию или отсутствию болезни: люди, возрастом до 50 лет, и люди после 50 лет. Посчитать среднее значение и квартиль 0.5 в данных выборках. Чем они отличаются?"
      ]
    },
    {
      "cell_type": "code",
      "metadata": {
        "id": "ZOpz2rnwiV-b",
        "colab_type": "code",
        "colab": {
          "base_uri": "https://localhost:8080/",
          "height": 295
        },
        "outputId": "36a567d2-04f7-4c07-b99d-33cb581da97e"
      },
      "source": [
        "young_dataset = data[data['Age']<50]['Dataset']\n",
        "old_dataset = data[data['Age']>50]['Dataset']\n",
        "sns.distplot(young_dataset)\n",
        "sns.distplot(old_dataset)\n",
        "plt.title('Плотность вероятности распределения Dataset')\n",
        "plt.legend(['до 50 лет', 'старше 50 лет'])\n",
        "plt.show()"
      ],
      "execution_count": 28,
      "outputs": [
        {
          "output_type": "display_data",
          "data": {
            "image/png": "[encoded data removed]",
            "text/plain": [
              "<Figure size 432x288 with 1 Axes>"
            ]
          },
          "metadata": {
            "tags": []
          }
        }
      ]
    },
    {
      "cell_type": "code",
      "metadata": {
        "id": "670MAl0Vj7ff",
        "colab_type": "code",
        "colab": {
          "base_uri": "https://localhost:8080/",
          "height": 51
        },
        "outputId": "08aa36c9-012c-4b35-e45d-ac58607edc3c"
      },
      "source": [
        "print(young_dataset.mean())\n",
        "print(old_dataset.mean())"
      ],
      "execution_count": 32,
      "outputs": [
        {
          "output_type": "stream",
          "text": [
            "1.3142857142857143\n",
            "1.2378640776699028\n"
          ],
          "name": "stdout"
        }
      ]
    },
    {
      "cell_type": "code",
      "metadata": {
        "id": "2ryT1aFakOnp",
        "colab_type": "code",
        "colab": {
          "base_uri": "https://localhost:8080/",
          "height": 119
        },
        "outputId": "30025080-fc02-4f7e-832e-cd13fdd3a752"
      },
      "source": [
        "print('Квантили по пациентам до 50 лет')\n",
        "young_dataset.quantile([.1, .25, .5, .75])"
      ],
      "execution_count": 33,
      "outputs": [
        {
          "output_type": "stream",
          "text": [
            "Квантили по пациентам до 50 лет\n"
          ],
          "name": "stdout"
        },
        {
          "output_type": "execute_result",
          "data": {
            "text/plain": [
              "0.10    1.0\n",
              "0.25    1.0\n",
              "0.50    1.0\n",
              "0.75    2.0\n",
              "Name: Dataset, dtype: float64"
            ]
          },
          "metadata": {
            "tags": []
          },
          "execution_count": 33
        }
      ]
    },
    {
      "cell_type": "code",
      "metadata": {
        "id": "Pu-YY_zgkZxP",
        "colab_type": "code",
        "colab": {
          "base_uri": "https://localhost:8080/",
          "height": 119
        },
        "outputId": "d9adac5a-6557-4c50-ca3c-57b8514c443f"
      },
      "source": [
        "print('Квантили по пациентам после 50 лет')\n",
        "old_dataset.quantile([.1, .25, .5, .75])"
      ],
      "execution_count": 34,
      "outputs": [
        {
          "output_type": "stream",
          "text": [
            "Квантили по пациентам после 50 лет\n"
          ],
          "name": "stdout"
        },
        {
          "output_type": "execute_result",
          "data": {
            "text/plain": [
              "0.10    1.0\n",
              "0.25    1.0\n",
              "0.50    1.0\n",
              "0.75    1.0\n",
              "Name: Dataset, dtype: float64"
            ]
          },
          "metadata": {
            "tags": []
          },
          "execution_count": 34
        }
      ]
    },
    {
      "cell_type": "markdown",
      "metadata": {
        "id": "8PUTg0uNlA7Y",
        "colab_type": "text"
      },
      "source": [
        "Можно заметить, что у пациентов старше 50 лет болезни печени встречаются чаще, чем у пациентов до 50 лет. А среднее значение выборок показало примерно одинаковые результаты. "
      ]
    },
    {
      "cell_type": "markdown",
      "metadata": {
        "id": "QZVd-KyDQq38",
        "colab_type": "text"
      },
      "source": [
        "\n",
        "Посчитать критерий одновыборочный t-критерий для выборки по критерию Total_Bilirubin у больных людей. Как показатель помогает понять, что выборки не похожа на генеральную совокупность?"
      ]
    },
    {
      "cell_type": "code",
      "metadata": {
        "id": "rus2oZOqlYOG",
        "colab_type": "code",
        "colab": {
          "base_uri": "https://localhost:8080/",
          "height": 34
        },
        "outputId": "1eb8cfed-27c1-4ac2-e587-cd2a9a266a79"
      },
      "source": [
        "ill_dataset = data[data['Dataset']==1]['Total_Bilirubin']\n",
        "stats.ttest_1samp(ill_dataset, data['Total_Bilirubin'].mean())"
      ],
      "execution_count": 36,
      "outputs": [
        {
          "output_type": "execute_result",
          "data": {
            "text/plain": [
              "Ttest_1sampResult(statistic=2.471063305746647, pvalue=0.013871861207640042)"
            ]
          },
          "metadata": {
            "tags": []
          },
          "execution_count": 36
        }
      ]
    },
    {
      "cell_type": "markdown",
      "metadata": {
        "id": "r0CxsC_emYjh",
        "colab_type": "text"
      },
      "source": [
        "p-value равно 0.013, что меньше стандартной альфа ошибки 0.05, поэтому мы не можем принять принять нулевую гипотезу и можем сказать, что имеется статистическое различие между показателями Общий бирибулин у больных и генеральной совокупности"
      ]
    },
    {
      "cell_type": "markdown",
      "metadata": {
        "id": "dI901FRqRC8A",
        "colab_type": "text"
      },
      "source": [
        "Посчитать критерий t для двух выборок: больные и здоровые (по критерию Total_Bilirubin). Имеют ли данные группы схожесть?"
      ]
    },
    {
      "cell_type": "code",
      "metadata": {
        "id": "66QAndoYtHuk",
        "colab_type": "code",
        "colab": {
          "base_uri": "https://localhost:8080/",
          "height": 34
        },
        "outputId": "7aa23506-2f10-41b1-f2a6-7db3f3699597"
      },
      "source": [
        "ill_dataset = data[data['Dataset']==1]['Total_Bilirubin']\n",
        "\n",
        "healthy_dataset = data[data['Dataset']==2]['Total_Bilirubin']\n",
        "\n",
        "stats.ttest_ind(ill_dataset, healthy_dataset)"
      ],
      "execution_count": 37,
      "outputs": [
        {
          "output_type": "execute_result",
          "data": {
            "text/plain": [
              "Ttest_indResult(statistic=5.441441126834863, pvalue=7.801430929364345e-08)"
            ]
          },
          "metadata": {
            "tags": []
          },
          "execution_count": 37
        }
      ]
    },
    {
      "cell_type": "markdown",
      "metadata": {
        "id": "j71WeuXOt8lQ",
        "colab_type": "text"
      },
      "source": [
        "T-значение 5.44, p-value равно 7.8e-08, что намного меньше стандартной альфа ошибки 0.05, поэтому мы не принимаем нулевую гипотезу и можем сказать, что имеются статистические различия между здоровыми и больными людьми в целом. "
      ]
    },
    {
      "cell_type": "markdown",
      "metadata": {
        "id": "2e0YHsEqAnvv",
        "colab_type": "text"
      },
      "source": [
        "Посчитать статистическую значимость для трех выборок (по возрасту) - 1ая группа от 1 до 30 лет, 2ая группа от 30 лет до 55, 3я группа более 55 по выборке Dataset. Сравнить с реальностью (они логично что будут отличаться)."
      ]
    },
    {
      "cell_type": "code",
      "metadata": {
        "id": "35XNjD3gu0bd",
        "colab_type": "code",
        "colab": {
          "base_uri": "https://localhost:8080/",
          "height": 34
        },
        "outputId": "c25965b4-f2c2-41ac-828b-4881669393a3"
      },
      "source": [
        "Age_0 = data[data['Age']<30]['Dataset']\n",
        "\n",
        "Age_1 = data[data['Age']>30]['Dataset'] & data[data['Age']<55]['Dataset']\n",
        "\n",
        "Age_2 = data[data['Age']>55]['Dataset']\n",
        "\n",
        "stats.f_oneway(Age_0, Age_1, Age_2)"
      ],
      "execution_count": 39,
      "outputs": [
        {
          "output_type": "execute_result",
          "data": {
            "text/plain": [
              "F_onewayResult(statistic=370.1953356534819, pvalue=4.0732978965818476e-116)"
            ]
          },
          "metadata": {
            "tags": []
          },
          "execution_count": 39
        }
      ]
    },
    {
      "cell_type": "markdown",
      "metadata": {
        "id": "n1T4RYkpyFsm",
        "colab_type": "text"
      },
      "source": [
        "Так как результат p-value намного меньше 0.05, то мы отвергаем нулевую гипотезу о том, что нет различий у групп с разным возрастом."
      ]
    },
    {
      "cell_type": "markdown",
      "metadata": {
        "id": "Jm1ESbSRRPOP",
        "colab_type": "text"
      },
      "source": [
        "Вопросы задавать на почту yustiks@gmail.com"
      ]
    }
  ]
}