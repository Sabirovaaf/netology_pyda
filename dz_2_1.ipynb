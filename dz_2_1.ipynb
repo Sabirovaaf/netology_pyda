{
  "nbformat": 4,
  "nbformat_minor": 0,
  "metadata": {
    "colab": {
      "name": "dz.ipynb",
      "version": "0.3.2",
      "provenance": []
    },
    "kernelspec": {
      "name": "python3",
      "display_name": "Python 3"
    }
  },
  "cells": [
    {
      "cell_type": "markdown",
      "metadata": {
        "id": "QVI-7gzMl70f",
        "colab_type": "text"
      },
      "source": [
        "# Домашнее задание по статистическому анализу на python"
      ]
    },
    {
      "cell_type": "code",
      "metadata": {
        "id": "4IGVqb7KvSxe",
        "colab_type": "code",
        "colab": {}
      },
      "source": [
        "import pandas as pd\n",
        "import numpy as np\n",
        "import matplotlib.pyplot as plt\n",
        "import scipy.stats as sts\n",
        "%matplotlib inline\n",
        "import statistics"
      ],
      "execution_count": 0,
      "outputs": []
    },
    {
      "cell_type": "markdown",
      "metadata": {
        "id": "cCvZIO1Kh7vZ",
        "colab_type": "text"
      },
      "source": [
        "Загрузить датасет по url:\n"
      ]
    },
    {
      "cell_type": "code",
      "metadata": {
        "id": "csAWXiRvh_YM",
        "colab_type": "code",
        "colab": {}
      },
      "source": [
        "url=\"http://yustiks.ru/dataset/world-happiness-report-2019.csv\"\n",
        "df=pd.read_csv(url)"
      ],
      "execution_count": 0,
      "outputs": []
    },
    {
      "cell_type": "markdown",
      "metadata": {
        "id": "UN13GCGcijj_",
        "colab_type": "text"
      },
      "source": [
        "World happiness gauged by technologies, social norms, and government policies. Dataset created by PromptCloud's web crawling solution."
      ]
    },
    {
      "cell_type": "markdown",
      "metadata": {
        "id": "2NSXs9iSi0dU",
        "colab_type": "text"
      },
      "source": [
        "\n",
        "*  **Country (region)** Name of the country.\n",
        "*  **Ladder** Cantril Ladder is a measure of life satisfaction.\n",
        "*  **SD of Ladder** Standard deviation of the ladder.\n",
        "*  **Positive affect** Measure of positive emotion.\n",
        "*  **Negative affect** Measure of negative emotion.\n",
        "*  **Social support** The extent to which Social support contributed to the calculation of the Happiness Score.\n",
        "*  **Freedom** The extent to which Freedom contributed to the calculation of the Happiness Score.\n",
        "*  **Corruption** The extent to which Perception of Corruption contributes to Happiness Score.\n",
        "*  **Generosity** The extent to which Generosity contributed to the calculation of the Happiness Score.\n",
        "*  **Log of GDP per capita** The extent to which GDP contributes to the calculation of the Happiness Score.\n",
        "*  **Healthy life expectancy** The extent to which Life expectancy contributed to the calculation of the Happiness Score."
      ]
    },
    {
      "cell_type": "markdown",
      "metadata": {
        "id": "23plwhw1j0ba",
        "colab_type": "text"
      },
      "source": [
        "Посмотреть первые несколько рядов таблицы"
      ]
    },
    {
      "cell_type": "code",
      "metadata": {
        "id": "QCIq_bWfj7IG",
        "colab_type": "code",
        "colab": {
          "base_uri": "https://localhost:8080/",
          "height": 204
        },
        "outputId": "eba88542-d6a6-490c-9a3a-c5fe37b8f94f"
      },
      "source": [
        "df.head()"
      ],
      "execution_count": 63,
      "outputs": [
        {
          "output_type": "execute_result",
          "data": {
            "text/html": [
              "<div>\n",
              "<style scoped>\n",
              "    .dataframe tbody tr th:only-of-type {\n",
              "        vertical-align: middle;\n",
              "    }\n",
              "\n",
              "    .dataframe tbody tr th {\n",
              "        vertical-align: top;\n",
              "    }\n",
              "\n",
              "    .dataframe thead th {\n",
              "        text-align: right;\n",
              "    }\n",
              "</style>\n",
              "<table border=\"1\" class=\"dataframe\">\n",
              "  <thead>\n",
              "    <tr style=\"text-align: right;\">\n",
              "      <th></th>\n",
              "      <th>Country (region)</th>\n",
              "      <th>Ladder</th>\n",
              "      <th>SD of Ladder</th>\n",
              "      <th>Positive affect</th>\n",
              "      <th>Negative affect</th>\n",
              "      <th>Social support</th>\n",
              "      <th>Freedom</th>\n",
              "      <th>Corruption</th>\n",
              "      <th>Generosity</th>\n",
              "      <th>Log of GDP\n",
              "per capita</th>\n",
              "      <th>Healthy life\n",
              "expectancy</th>\n",
              "    </tr>\n",
              "  </thead>\n",
              "  <tbody>\n",
              "    <tr>\n",
              "      <th>0</th>\n",
              "      <td>Finland</td>\n",
              "      <td>1</td>\n",
              "      <td>4</td>\n",
              "      <td>41.0</td>\n",
              "      <td>10.0</td>\n",
              "      <td>2.0</td>\n",
              "      <td>5.0</td>\n",
              "      <td>4.0</td>\n",
              "      <td>47.0</td>\n",
              "      <td>22.0</td>\n",
              "      <td>27.0</td>\n",
              "    </tr>\n",
              "    <tr>\n",
              "      <th>1</th>\n",
              "      <td>Denmark</td>\n",
              "      <td>2</td>\n",
              "      <td>13</td>\n",
              "      <td>24.0</td>\n",
              "      <td>26.0</td>\n",
              "      <td>4.0</td>\n",
              "      <td>6.0</td>\n",
              "      <td>3.0</td>\n",
              "      <td>22.0</td>\n",
              "      <td>14.0</td>\n",
              "      <td>23.0</td>\n",
              "    </tr>\n",
              "    <tr>\n",
              "      <th>2</th>\n",
              "      <td>Norway</td>\n",
              "      <td>3</td>\n",
              "      <td>8</td>\n",
              "      <td>16.0</td>\n",
              "      <td>29.0</td>\n",
              "      <td>3.0</td>\n",
              "      <td>3.0</td>\n",
              "      <td>8.0</td>\n",
              "      <td>11.0</td>\n",
              "      <td>7.0</td>\n",
              "      <td>12.0</td>\n",
              "    </tr>\n",
              "    <tr>\n",
              "      <th>3</th>\n",
              "      <td>Iceland</td>\n",
              "      <td>4</td>\n",
              "      <td>9</td>\n",
              "      <td>3.0</td>\n",
              "      <td>3.0</td>\n",
              "      <td>1.0</td>\n",
              "      <td>7.0</td>\n",
              "      <td>45.0</td>\n",
              "      <td>3.0</td>\n",
              "      <td>15.0</td>\n",
              "      <td>13.0</td>\n",
              "    </tr>\n",
              "    <tr>\n",
              "      <th>4</th>\n",
              "      <td>Netherlands</td>\n",
              "      <td>5</td>\n",
              "      <td>1</td>\n",
              "      <td>12.0</td>\n",
              "      <td>25.0</td>\n",
              "      <td>15.0</td>\n",
              "      <td>19.0</td>\n",
              "      <td>12.0</td>\n",
              "      <td>7.0</td>\n",
              "      <td>12.0</td>\n",
              "      <td>18.0</td>\n",
              "    </tr>\n",
              "  </tbody>\n",
              "</table>\n",
              "</div>"
            ],
            "text/plain": [
              "  Country (region)  Ladder  ...  Log of GDP\\nper capita  Healthy life\\nexpectancy\n",
              "0          Finland       1  ...                    22.0                      27.0\n",
              "1          Denmark       2  ...                    14.0                      23.0\n",
              "2           Norway       3  ...                     7.0                      12.0\n",
              "3          Iceland       4  ...                    15.0                      13.0\n",
              "4      Netherlands       5  ...                    12.0                      18.0\n",
              "\n",
              "[5 rows x 11 columns]"
            ]
          },
          "metadata": {
            "tags": []
          },
          "execution_count": 63
        }
      ]
    },
    {
      "cell_type": "code",
      "metadata": {
        "id": "ZlTx2UTQXN4E",
        "colab_type": "code",
        "colab": {}
      },
      "source": [
        "df= df.dropna(subset=['Freedom'])\n",
        "df= df.dropna(subset=['Positive affect'])"
      ],
      "execution_count": 0,
      "outputs": []
    },
    {
      "cell_type": "markdown",
      "metadata": {
        "id": "XCFa8CtdjrqJ",
        "colab_type": "text"
      },
      "source": [
        "Построить частотный график для двух параметров: Freedom и positive affect. Какое это распределение?"
      ]
    },
    {
      "cell_type": "code",
      "metadata": {
        "id": "Ia4zd3G2kUEI",
        "colab_type": "code",
        "colab": {
          "base_uri": "https://localhost:8080/",
          "height": 295
        },
        "outputId": "672e66af-f2db-4865-e623-db4c14c47b81"
      },
      "source": [
        "Freedom = df['Freedom']\n",
        "Positive_affect= df['Positive affect']\n",
        "# plt.hist - строит частотный график выборки, разбивая значения выборки на равные интервалы\n",
        "n, bins, patches = plt.hist(Freedom, 10, facecolor='g')\n",
        "\n",
        "plt.xlabel('frequency')\n",
        "plt.ylabel('Freedom')\n",
        "plt.title('Частотный график Freedom (разбиение интервала по 10 элементов)')\n",
        "plt.grid(True)\n",
        "plt.show()"
      ],
      "execution_count": 122,
      "outputs": [
        {
          "output_type": "display_data",
          "data": {
            "image/png": "[encoded data removed]",
            "text/plain": [
              "<Figure size 432x288 with 1 Axes>"
            ]
          },
          "metadata": {
            "tags": []
          }
        }
      ]
    },
    {
      "cell_type": "code",
      "metadata": {
        "id": "5R6CGHsHe0Jh",
        "colab_type": "code",
        "colab": {
          "base_uri": "https://localhost:8080/",
          "height": 295
        },
        "outputId": "17f0b1f9-4835-4dba-fef5-ab34f1cec266"
      },
      "source": [
        "n, bins, patches = plt.hist(Positive_affect, 10, facecolor='r')\n",
        "\n",
        "plt.xlabel('frequency')\n",
        "plt.ylabel('Positive_affect')\n",
        "plt.title('Частотный график Positive_affect (разбиение интервала по 10 элементов)')\n",
        "plt.grid(True)\n",
        "plt.show()"
      ],
      "execution_count": 124,
      "outputs": [
        {
          "output_type": "display_data",
          "data": {
            "image/png": "[encoded data removed]",
            "text/plain": [
              "<Figure size 432x288 with 1 Axes>"
            ]
          },
          "metadata": {
            "tags": []
          }
        }
      ]
    },
    {
      "cell_type": "markdown",
      "metadata": {
        "id": "YQCXwba-iegz",
        "colab_type": "text"
      },
      "source": [
        "Графики свидетельствуют о практически равномерном распределении выборки"
      ]
    },
    {
      "cell_type": "markdown",
      "metadata": {
        "id": "nBwpKop7j8HH",
        "colab_type": "text"
      },
      "source": [
        "Найти медиану, моду, математическое ожидание, стандартное отклонение,  дисперсию, минимум и максимум, найти выбросы (если есть), размах для колонки Freedom"
      ]
    },
    {
      "cell_type": "code",
      "metadata": {
        "id": "yjqwOGyskPXw",
        "colab_type": "code",
        "colab": {
          "base_uri": "https://localhost:8080/",
          "height": 34
        },
        "outputId": "7a8b5e22-6abd-42b2-a404-2db8a5fbe80f"
      },
      "source": [
        "import statistics\n",
        "df['Freedom'] = df.Freedom.astype('float64')\n",
        "print('Медиана: ', statistics.median(df['Freedom']))"
      ],
      "execution_count": 71,
      "outputs": [
        {
          "output_type": "stream",
          "text": [
            "Медиана:  78.0\n"
          ],
          "name": "stdout"
        }
      ]
    },
    {
      "cell_type": "code",
      "metadata": {
        "id": "1gj-bkySJkOd",
        "colab_type": "code",
        "colab": {
          "base_uri": "https://localhost:8080/",
          "height": 34
        },
        "outputId": "6984d11d-2f2a-4569-87cd-045ff5ef84b5"
      },
      "source": [
        "# Создаём пустой словарь, в котором будем считать количество появлений значений продолжительности фильма\n",
        "Freedom_counts = {}\n",
        "for p in Freedom:\n",
        "    if p not in Freedom_counts:\n",
        "        Freedom_counts[p] = 1\n",
        "    else:\n",
        "        Freedom_counts[p] += 1\n",
        "\n",
        "# Проходимся по словарю и ищем максимальное количество повторений\n",
        "# Алгоритм поиска максимума\n",
        "maxp = 0\n",
        "mode_Freedom = None\n",
        "for k, v in Freedom_counts.items():\n",
        "    if maxp < v:\n",
        "        maxp = v\n",
        "        mode_Freedom = k\n",
        "print('Значение моды: ', mode_Freedom, 'Количество встречаемости: ', maxp)"
      ],
      "execution_count": 9,
      "outputs": [
        {
          "output_type": "stream",
          "text": [
            "Значение моды:  5.0 Количество встречаемости:  1\n"
          ],
          "name": "stdout"
        }
      ]
    },
    {
      "cell_type": "code",
      "metadata": {
        "id": "NATWFAldKGs8",
        "colab_type": "code",
        "colab": {
          "base_uri": "https://localhost:8080/",
          "height": 34
        },
        "outputId": "e7713c60-0e65-4358-ce9c-17ca1ca7b83b"
      },
      "source": [
        "print('Мат ожидание: ', statistics.mean(df['Freedom']))"
      ],
      "execution_count": 67,
      "outputs": [
        {
          "output_type": "stream",
          "text": [
            "Мат ожидание:  78.0\n"
          ],
          "name": "stdout"
        }
      ]
    },
    {
      "cell_type": "code",
      "metadata": {
        "id": "dmtvbf6WKpA2",
        "colab_type": "code",
        "colab": {
          "base_uri": "https://localhost:8080/",
          "height": 34
        },
        "outputId": "0f40de41-ba68-4ac7-f6d0-5baf061d9e6e"
      },
      "source": [
        "print('Стандартное отклонение: ', statistics.pstdev(Freedom))"
      ],
      "execution_count": 70,
      "outputs": [
        {
          "output_type": "stream",
          "text": [
            "Стандартное отклонение:  44.74371464239419\n"
          ],
          "name": "stdout"
        }
      ]
    },
    {
      "cell_type": "code",
      "metadata": {
        "id": "zbnxCDRWaFyv",
        "colab_type": "code",
        "colab": {
          "base_uri": "https://localhost:8080/",
          "height": 34
        },
        "outputId": "62b78148-d5bd-499e-aed3-97a5c5b1de73"
      },
      "source": [
        "print('Дисперсия: ', statistics.pvariance(Freedom))"
      ],
      "execution_count": 72,
      "outputs": [
        {
          "output_type": "stream",
          "text": [
            "Дисперсия:  2002.0\n"
          ],
          "name": "stdout"
        }
      ]
    },
    {
      "cell_type": "code",
      "metadata": {
        "id": "rpcAgSR8aSL7",
        "colab_type": "code",
        "colab": {
          "base_uri": "https://localhost:8080/",
          "height": 34
        },
        "outputId": "d5214db4-b1ec-4922-a901-c5578e5c740c"
      },
      "source": [
        "print('Максимум: ', max(Freedom))"
      ],
      "execution_count": 73,
      "outputs": [
        {
          "output_type": "stream",
          "text": [
            "Максимум:  155.0\n"
          ],
          "name": "stdout"
        }
      ]
    },
    {
      "cell_type": "code",
      "metadata": {
        "id": "1nWKRQcnad1A",
        "colab_type": "code",
        "colab": {
          "base_uri": "https://localhost:8080/",
          "height": 34
        },
        "outputId": "482e97a4-d088-4237-d17a-3e74de616e63"
      },
      "source": [
        "print('Минимум: ', min(Freedom))"
      ],
      "execution_count": 74,
      "outputs": [
        {
          "output_type": "stream",
          "text": [
            "Минимум:  1.0\n"
          ],
          "name": "stdout"
        }
      ]
    },
    {
      "cell_type": "code",
      "metadata": {
        "id": "I12Q-PprajqN",
        "colab_type": "code",
        "colab": {
          "base_uri": "https://localhost:8080/",
          "height": 34
        },
        "outputId": "df93ae45-7aaf-4eb7-fdf1-d0ea37016e7a"
      },
      "source": [
        "duration_range = max(duration) - min(duration)\n",
        "print('Размах: ', duration_range)"
      ],
      "execution_count": 75,
      "outputs": [
        {
          "output_type": "stream",
          "text": [
            "Размах:  154.0\n"
          ],
          "name": "stdout"
        }
      ]
    },
    {
      "cell_type": "code",
      "metadata": {
        "id": "PERj_ErAazME",
        "colab_type": "code",
        "colab": {
          "base_uri": "https://localhost:8080/",
          "height": 34
        },
        "outputId": "05ef04d7-429d-4efe-fe6d-31aeec482d99"
      },
      "source": [
        "Freedom.isnull().sum()"
      ],
      "execution_count": 76,
      "outputs": [
        {
          "output_type": "execute_result",
          "data": {
            "text/plain": [
              "0"
            ]
          },
          "metadata": {
            "tags": []
          },
          "execution_count": 76
        }
      ]
    },
    {
      "cell_type": "markdown",
      "metadata": {
        "id": "U-7gpfzukf9l",
        "colab_type": "text"
      },
      "source": [
        "Посмотреть корреляцию между Freedom и positive affect (графически и математически). Графически - plt.scatter, математически - посчитать коэффициент Пирсона. О чем говорит знак коэффициента?"
      ]
    },
    {
      "cell_type": "code",
      "metadata": {
        "id": "mHKzz4H_kmto",
        "colab_type": "code",
        "colab": {
          "base_uri": "https://localhost:8080/",
          "height": 312
        },
        "outputId": "01619db1-a549-422d-c83a-6c9fa24397f0"
      },
      "source": [
        "\n",
        "plt.xlabel('выборка Freedom')\n",
        "plt.ylabel('выборка Positive affect')\n",
        "plt.title('Точечный график зависимости двух выборок x и y')\n",
        "plt.grid(True)\n",
        "plt.scatter(Freedom, Positive_affect, marker='.')"
      ],
      "execution_count": 80,
      "outputs": [
        {
          "output_type": "execute_result",
          "data": {
            "text/plain": [
              "<matplotlib.collections.PathCollection at 0x7f23660b8860>"
            ]
          },
          "metadata": {
            "tags": []
          },
          "execution_count": 80
        },
        {
          "output_type": "display_data",
          "data": {
            "image/png": "[encoded data removed]",
            "text/plain": [
              "<Figure size 432x288 with 1 Axes>"
            ]
          },
          "metadata": {
            "tags": []
          }
        }
      ]
    },
    {
      "cell_type": "code",
      "metadata": {
        "id": "4N_OtE4WOZne",
        "colab_type": "code",
        "colab": {
          "base_uri": "https://localhost:8080/",
          "height": 34
        },
        "outputId": "0d49bbbb-0029-40a6-ffa5-cbe14056fbf2"
      },
      "source": [
        "df['Positive affect'] = Positive_affect\n",
        "from scipy.stats import pearsonr\n",
        "corr, p_value = pearsonr(Freedom, Positive_affect)\n",
        "print(corr)"
      ],
      "execution_count": 82,
      "outputs": [
        {
          "output_type": "stream",
          "text": [
            "0.6817698430601656\n"
          ],
          "name": "stdout"
        }
      ]
    },
    {
      "cell_type": "markdown",
      "metadata": {
        "id": "vmIhg0IJcixo",
        "colab_type": "text"
      },
      "source": [
        "Коэффициент свидетельствует о довольно сильной положительной корреляции между величинами"
      ]
    },
    {
      "cell_type": "markdown",
      "metadata": {
        "id": "D6nsF28EksAu",
        "colab_type": "text"
      },
      "source": [
        "Нормализовать данные колонки Freedom (централизация + масштабирование)"
      ]
    },
    {
      "cell_type": "code",
      "metadata": {
        "id": "-OxSDHuXkywQ",
        "colab_type": "code",
        "colab": {
          "base_uri": "https://localhost:8080/",
          "height": 34
        },
        "outputId": "93b00a0f-d622-402d-e3a7-3172dfc3fc02"
      },
      "source": [
        "print(statistics.mean(Freedom))"
      ],
      "execution_count": 83,
      "outputs": [
        {
          "output_type": "stream",
          "text": [
            "78.0\n"
          ],
          "name": "stdout"
        }
      ]
    },
    {
      "cell_type": "code",
      "metadata": {
        "id": "kVqul_jydMue",
        "colab_type": "code",
        "colab": {
          "base_uri": "https://localhost:8080/",
          "height": 34
        },
        "outputId": "96156468-7a40-4913-951d-6df0723b8ebc"
      },
      "source": [
        "Freedom_1 = Freedom - statistics.mean(Freedom)\n",
        "print(statistics.mean(Freedom_1))"
      ],
      "execution_count": 85,
      "outputs": [
        {
          "output_type": "stream",
          "text": [
            "0.0\n"
          ],
          "name": "stdout"
        }
      ]
    },
    {
      "cell_type": "code",
      "metadata": {
        "id": "7GCuEnl-dpPM",
        "colab_type": "code",
        "colab": {
          "base_uri": "https://localhost:8080/",
          "height": 51
        },
        "outputId": "6b7389bb-40a2-4daf-918f-7717bd117ce4"
      },
      "source": [
        "min(Freedom_1)\n",
        "max(Freedom_1)\n",
        "from sklearn import preprocessing\n",
        "min_max_scaler = preprocessing.MinMaxScaler(feature_range=(-1,1))\n",
        "\n",
        "Freedom_2 = min_max_scaler.fit_transform(np.array(Freedom_1).reshape(-1, 1))\n",
        "print(min(Freedom_2))\n",
        "print(max(Freedom_2))"
      ],
      "execution_count": 86,
      "outputs": [
        {
          "output_type": "stream",
          "text": [
            "[-1.]\n",
            "[1.]\n"
          ],
          "name": "stdout"
        }
      ]
    },
    {
      "cell_type": "markdown",
      "metadata": {
        "id": "4eOPS6fpkzKO",
        "colab_type": "text"
      },
      "source": [
        "Построить матрицу корреляций для всех колонок таблицы"
      ]
    },
    {
      "cell_type": "code",
      "metadata": {
        "id": "M4eCTmwtlCzY",
        "colab_type": "code",
        "colab": {
          "base_uri": "https://localhost:8080/",
          "height": 771
        },
        "outputId": "60b7b1f1-cbfe-495a-9c92-126ef26b7d43"
      },
      "source": [
        "import seaborn as sns\n",
        "sns.heatmap(df.corr(),annot=True,cmap='RdYlGn',linewidths=0.2) #data.corr()-->correlation matrix\n",
        "fig=plt.gcf()\n",
        "fig.set_size_inches(12,12)\n",
        "plt.show()"
      ],
      "execution_count": 87,
      "outputs": [
        {
          "output_type": "display_data",
          "data": {
            "image/png": "[encoded data removed]",
            "text/plain": [
              "<Figure size 864x864 with 2 Axes>"
            ]
          },
          "metadata": {
            "tags": []
          }
        }
      ]
    },
    {
      "cell_type": "markdown",
      "metadata": {
        "id": "RAbZRTRG2Ci0",
        "colab_type": "text"
      },
      "source": [
        "Загрузить следующую таблицу: "
      ]
    },
    {
      "cell_type": "code",
      "metadata": {
        "id": "gmgMOe_e2H-_",
        "colab_type": "code",
        "outputId": "5208d747-1f30-49c7-ddb4-5ec96ac22024",
        "colab": {
          "base_uri": "https://localhost:8080/",
          "height": 142
        }
      },
      "source": [
        "import io\n",
        "import requests\n",
        "url=\"http://yustiks.ru/avocado.csv\"\n",
        "df_1=pd.read_csv(url)\n",
        "df_1[:3]"
      ],
      "execution_count": 111,
      "outputs": [
        {
          "output_type": "execute_result",
          "data": {
            "text/html": [
              "<div>\n",
              "<style scoped>\n",
              "    .dataframe tbody tr th:only-of-type {\n",
              "        vertical-align: middle;\n",
              "    }\n",
              "\n",
              "    .dataframe tbody tr th {\n",
              "        vertical-align: top;\n",
              "    }\n",
              "\n",
              "    .dataframe thead th {\n",
              "        text-align: right;\n",
              "    }\n",
              "</style>\n",
              "<table border=\"1\" class=\"dataframe\">\n",
              "  <thead>\n",
              "    <tr style=\"text-align: right;\">\n",
              "      <th></th>\n",
              "      <th>Unnamed: 0</th>\n",
              "      <th>Date</th>\n",
              "      <th>AveragePrice</th>\n",
              "      <th>Total Volume</th>\n",
              "      <th>4046</th>\n",
              "      <th>4225</th>\n",
              "      <th>4770</th>\n",
              "      <th>Total Bags</th>\n",
              "      <th>Small Bags</th>\n",
              "      <th>Large Bags</th>\n",
              "      <th>XLarge Bags</th>\n",
              "      <th>type</th>\n",
              "      <th>year</th>\n",
              "      <th>region</th>\n",
              "    </tr>\n",
              "  </thead>\n",
              "  <tbody>\n",
              "    <tr>\n",
              "      <th>0</th>\n",
              "      <td>0</td>\n",
              "      <td>2015-12-27</td>\n",
              "      <td>1.33</td>\n",
              "      <td>64236.62</td>\n",
              "      <td>1036.74</td>\n",
              "      <td>54454.85</td>\n",
              "      <td>48.16</td>\n",
              "      <td>8696.87</td>\n",
              "      <td>8603.62</td>\n",
              "      <td>93.25</td>\n",
              "      <td>0.0</td>\n",
              "      <td>conventional</td>\n",
              "      <td>2015</td>\n",
              "      <td>Albany</td>\n",
              "    </tr>\n",
              "    <tr>\n",
              "      <th>1</th>\n",
              "      <td>1</td>\n",
              "      <td>2015-12-20</td>\n",
              "      <td>1.35</td>\n",
              "      <td>54876.98</td>\n",
              "      <td>674.28</td>\n",
              "      <td>44638.81</td>\n",
              "      <td>58.33</td>\n",
              "      <td>9505.56</td>\n",
              "      <td>9408.07</td>\n",
              "      <td>97.49</td>\n",
              "      <td>0.0</td>\n",
              "      <td>conventional</td>\n",
              "      <td>2015</td>\n",
              "      <td>Albany</td>\n",
              "    </tr>\n",
              "    <tr>\n",
              "      <th>2</th>\n",
              "      <td>2</td>\n",
              "      <td>2015-12-13</td>\n",
              "      <td>0.93</td>\n",
              "      <td>118220.22</td>\n",
              "      <td>794.70</td>\n",
              "      <td>109149.67</td>\n",
              "      <td>130.50</td>\n",
              "      <td>8145.35</td>\n",
              "      <td>8042.21</td>\n",
              "      <td>103.14</td>\n",
              "      <td>0.0</td>\n",
              "      <td>conventional</td>\n",
              "      <td>2015</td>\n",
              "      <td>Albany</td>\n",
              "    </tr>\n",
              "  </tbody>\n",
              "</table>\n",
              "</div>"
            ],
            "text/plain": [
              "   Unnamed: 0        Date  AveragePrice  ...          type  year  region\n",
              "0           0  2015-12-27          1.33  ...  conventional  2015  Albany\n",
              "1           1  2015-12-20          1.35  ...  conventional  2015  Albany\n",
              "2           2  2015-12-13          0.93  ...  conventional  2015  Albany\n",
              "\n",
              "[3 rows x 14 columns]"
            ]
          },
          "metadata": {
            "tags": []
          },
          "execution_count": 111
        }
      ]
    },
    {
      "cell_type": "code",
      "metadata": {
        "id": "Qb5dGBWPkhVl",
        "colab_type": "code",
        "colab": {}
      },
      "source": [
        "AveragePrice= df_1['AveragePrice']"
      ],
      "execution_count": 0,
      "outputs": []
    },
    {
      "cell_type": "markdown",
      "metadata": {
        "id": "QmBGvAQKlkwq",
        "colab_type": "text"
      },
      "source": [
        "Сделать частотный график колонки AveragePrice. Какое это распределение?"
      ]
    },
    {
      "cell_type": "code",
      "metadata": {
        "id": "Und8GJxWlqIy",
        "colab_type": "code",
        "colab": {
          "base_uri": "https://localhost:8080/",
          "height": 295
        },
        "outputId": "b9689ebb-46d1-4212-c0a6-9e77cefdbf91"
      },
      "source": [
        "n, bins, patches = plt.hist(AveragePrice, 10, facecolor='y')\n",
        "\n",
        "\n",
        "plt.xlabel('frequency')\n",
        "plt.ylabel('AveragePrice')\n",
        "plt.title('Частотный график AveragePrice (разбиение интервала по 10 элементов)')\n",
        "plt.grid(True)\n",
        "plt.show()"
      ],
      "execution_count": 114,
      "outputs": [
        {
          "output_type": "display_data",
          "data": {
            "image/png": "[encoded data removed]",
            "text/plain": [
              "<Figure size 432x288 with 1 Axes>"
            ]
          },
          "metadata": {
            "tags": []
          }
        }
      ]
    },
    {
      "cell_type": "markdown",
      "metadata": {
        "id": "ClGSslOFluga",
        "colab_type": "text"
      },
      "source": [
        "Частотный график схож с нормальным распределением с некоторыми отклонениями. "
      ]
    },
    {
      "cell_type": "markdown",
      "metadata": {
        "id": "mCi-XdIAlrD4",
        "colab_type": "text"
      },
      "source": [
        "Найти корреляцию в следующих колонках:"
      ]
    },
    {
      "cell_type": "markdown",
      "metadata": {
        "id": "zR3V0X_T1_4Y",
        "colab_type": "text"
      },
      "source": [
        "Корелляция между: 4046 - Total number of avocados with PLU 4046 sold  и например Average Price. Если корелляция есть, то скорее всего, данный вид авокадо дорогой по цене и он влияет на среднюю стоимость."
      ]
    },
    {
      "cell_type": "code",
      "metadata": {
        "id": "RkPfhTovlvtk",
        "colab_type": "code",
        "colab": {
          "base_uri": "https://localhost:8080/",
          "height": 312
        },
        "outputId": "dd723897-6b66-4b05-c6cc-ee6d9b4aef53"
      },
      "source": [
        "plt.xlabel('выборка 4046')\n",
        "plt.ylabel('выборка Average Price')\n",
        "plt.title('Точечный график зависимости двух выборок x и y')\n",
        "plt.grid(True)\n",
        "plt.scatter(df_1['4046'], AveragePrice, marker='.')"
      ],
      "execution_count": 127,
      "outputs": [
        {
          "output_type": "execute_result",
          "data": {
            "text/plain": [
              "<matplotlib.collections.PathCollection at 0x7f2364991ac8>"
            ]
          },
          "metadata": {
            "tags": []
          },
          "execution_count": 127
        },
        {
          "output_type": "display_data",
          "data": {
            "image/png": "[encoded data removed]",
            "text/plain": [
              "<Figure size 432x288 with 1 Axes>"
            ]
          },
          "metadata": {
            "tags": []
          }
        }
      ]
    },
    {
      "cell_type": "code",
      "metadata": {
        "id": "C24Wo5Vzq8XB",
        "colab_type": "code",
        "colab": {
          "base_uri": "https://localhost:8080/",
          "height": 34
        },
        "outputId": "099fe17f-3c5a-45c0-f0d0-49731aa75c25"
      },
      "source": [
        "from scipy.stats import pearsonr\n",
        "corr, p_value = pearsonr(df_1['4046'], AveragePrice)\n",
        "print(corr)"
      ],
      "execution_count": 128,
      "outputs": [
        {
          "output_type": "stream",
          "text": [
            "-0.2083170484878848\n"
          ],
          "name": "stdout"
        }
      ]
    },
    {
      "cell_type": "markdown",
      "metadata": {
        "id": "HQes4bEirRky",
        "colab_type": "text"
      },
      "source": [
        "График и коэффициент свидетельствует о небольшой отрицательной корреляции. То есть можно сделать вывод, что данный вид авокадо не влияет почти на среднюю стоимость, что связано вероятнее всего с небольшим объемом приобретения"
      ]
    },
    {
      "cell_type": "code",
      "metadata": {
        "id": "W4GKOahfrliV",
        "colab_type": "code",
        "colab": {}
      },
      "source": [
        ""
      ],
      "execution_count": 0,
      "outputs": []
    }
  ]
}