{
 "cells": [
  {
   "cell_type": "code",
   "execution_count": 36,
   "metadata": {},
   "outputs": [],
   "source": [
    "import datetime\n",
    "import numpy as np\n",
    "import pandas as pd\n",
    "\n",
    "from sklearn.linear_model import LinearRegression"
   ]
  },
  {
   "cell_type": "code",
   "execution_count": 41,
   "metadata": {},
   "outputs": [
    {
     "data": {
      "text/html": [
       "<div>\n",
       "<style scoped>\n",
       "    .dataframe tbody tr th:only-of-type {\n",
       "        vertical-align: middle;\n",
       "    }\n",
       "\n",
       "    .dataframe tbody tr th {\n",
       "        vertical-align: top;\n",
       "    }\n",
       "\n",
       "    .dataframe thead th {\n",
       "        text-align: right;\n",
       "    }\n",
       "</style>\n",
       "<table border=\"1\" class=\"dataframe\">\n",
       "  <thead>\n",
       "    <tr style=\"text-align: right;\">\n",
       "      <th></th>\n",
       "      <th>time</th>\n",
       "      <th>speed</th>\n",
       "      <th>age_driver</th>\n",
       "      <th>driver_experience</th>\n",
       "      <th>number_of_passangers</th>\n",
       "      <th>distance</th>\n",
       "    </tr>\n",
       "  </thead>\n",
       "  <tbody>\n",
       "    <tr>\n",
       "      <th>0</th>\n",
       "      <td>14</td>\n",
       "      <td>91</td>\n",
       "      <td>78</td>\n",
       "      <td>10</td>\n",
       "      <td>2</td>\n",
       "      <td>1146.6</td>\n",
       "    </tr>\n",
       "    <tr>\n",
       "      <th>1</th>\n",
       "      <td>27</td>\n",
       "      <td>183</td>\n",
       "      <td>102</td>\n",
       "      <td>33</td>\n",
       "      <td>2</td>\n",
       "      <td>4446.9</td>\n",
       "    </tr>\n",
       "    <tr>\n",
       "      <th>2</th>\n",
       "      <td>3</td>\n",
       "      <td>146</td>\n",
       "      <td>53</td>\n",
       "      <td>44</td>\n",
       "      <td>2</td>\n",
       "      <td>394.2</td>\n",
       "    </tr>\n",
       "    <tr>\n",
       "      <th>3</th>\n",
       "      <td>37</td>\n",
       "      <td>59</td>\n",
       "      <td>54</td>\n",
       "      <td>59</td>\n",
       "      <td>3</td>\n",
       "      <td>1964.7</td>\n",
       "    </tr>\n",
       "    <tr>\n",
       "      <th>4</th>\n",
       "      <td>28</td>\n",
       "      <td>120</td>\n",
       "      <td>95</td>\n",
       "      <td>61</td>\n",
       "      <td>1</td>\n",
       "      <td>3024.0</td>\n",
       "    </tr>\n",
       "  </tbody>\n",
       "</table>\n",
       "</div>"
      ],
      "text/plain": [
       "   time  speed  age_driver  driver_experience  number_of_passangers  distance\n",
       "0    14     91          78                 10                     2    1146.6\n",
       "1    27    183         102                 33                     2    4446.9\n",
       "2     3    146          53                 44                     2     394.2\n",
       "3    37     59          54                 59                     3    1964.7\n",
       "4    28    120          95                 61                     1    3024.0"
      ]
     },
     "execution_count": 41,
     "metadata": {},
     "output_type": "execute_result"
    }
   ],
   "source": [
    "n_samples=100\n",
    "time = np.random.choice(48, n_samples)+1\n",
    "speed = np.random.choice(160, n_samples)+50\n",
    "age_driver = np.random.choice(85, n_samples)+18\n",
    "driver_experience = np.random.choice(67, n_samples)+1\n",
    "number_of_passangers =  np.random.choice(4, n_samples)+0\n",
    "distance = time*speed*0.9\n",
    "\n",
    "data = pd.DataFrame({'time': time, 'speed': speed, 'age_driver': age_driver, 'driver_experience': driver_experience, 'number_of_passangers': number_of_passangers, 'distance': distance})\n",
    "data.head(5)"
   ]
  },
  {
   "cell_type": "code",
   "execution_count": 47,
   "metadata": {},
   "outputs": [
    {
     "name": "stdout",
     "output_type": "stream",
     "text": [
      "Weights: [106.13185342  19.62534979   1.0051759   -2.78956265  -5.66113022]\n",
      "Bias: -2346.6752382915497\n",
      "Error:366.47301466429576\n"
     ]
    }
   ],
   "source": [
    "from sklearn.metrics import mean_absolute_error\n",
    "\n",
    "X=data[['time', 'speed', 'age_driver', 'driver_experience', 'number_of_passangers']]\n",
    "Y=data['distance']\n",
    "reg=LinearRegression().fit(X,Y)\n",
    "print('Weights: {}'.format(reg.coef_))\n",
    "print('Bias: {}'.format(reg.intercept_))\n",
    "\n",
    "pred_values=reg.predict(data[['time', 'speed', 'age_driver', 'driver_experience', 'number_of_passangers']])\n",
    "print('Error:{}'. format (mean_absolute_error(pred_values,Y)))"
   ]
  },
  {
   "cell_type": "code",
   "execution_count": 49,
   "metadata": {},
   "outputs": [
    {
     "name": "stdout",
     "output_type": "stream",
     "text": [
      "Weights: [106.21112945  19.70168221]\n",
      "Bias: -2395.2346862444115\n",
      "Error:366.06988525689593\n"
     ]
    }
   ],
   "source": [
    "X=data[['time', 'speed']]\n",
    "Y=data['distance']\n",
    "reg=LinearRegression().fit(X,Y)\n",
    "print('Weights: {}'.format(reg.coef_))\n",
    "print('Bias: {}'.format(reg.intercept_))\n",
    "\n",
    "pred_values=reg.predict(data[['time', 'speed']])\n",
    "print('Error:{}'. format (mean_absolute_error(pred_values,Y)))"
   ]
  },
  {
   "cell_type": "code",
   "execution_count": 52,
   "metadata": {},
   "outputs": [
    {
     "data": {
      "text/html": [
       "<div>\n",
       "<style scoped>\n",
       "    .dataframe tbody tr th:only-of-type {\n",
       "        vertical-align: middle;\n",
       "    }\n",
       "\n",
       "    .dataframe tbody tr th {\n",
       "        vertical-align: top;\n",
       "    }\n",
       "\n",
       "    .dataframe thead th {\n",
       "        text-align: right;\n",
       "    }\n",
       "</style>\n",
       "<table border=\"1\" class=\"dataframe\">\n",
       "  <thead>\n",
       "    <tr style=\"text-align: right;\">\n",
       "      <th></th>\n",
       "      <th>time</th>\n",
       "      <th>speed</th>\n",
       "      <th>age_driver</th>\n",
       "      <th>driver_experience</th>\n",
       "      <th>number_of_passangers</th>\n",
       "      <th>distance</th>\n",
       "      <th>mult</th>\n",
       "    </tr>\n",
       "  </thead>\n",
       "  <tbody>\n",
       "    <tr>\n",
       "      <th>0</th>\n",
       "      <td>14</td>\n",
       "      <td>91</td>\n",
       "      <td>78</td>\n",
       "      <td>10</td>\n",
       "      <td>2</td>\n",
       "      <td>1146.6</td>\n",
       "      <td>1274</td>\n",
       "    </tr>\n",
       "    <tr>\n",
       "      <th>1</th>\n",
       "      <td>27</td>\n",
       "      <td>183</td>\n",
       "      <td>102</td>\n",
       "      <td>33</td>\n",
       "      <td>2</td>\n",
       "      <td>4446.9</td>\n",
       "      <td>4941</td>\n",
       "    </tr>\n",
       "    <tr>\n",
       "      <th>2</th>\n",
       "      <td>3</td>\n",
       "      <td>146</td>\n",
       "      <td>53</td>\n",
       "      <td>44</td>\n",
       "      <td>2</td>\n",
       "      <td>394.2</td>\n",
       "      <td>438</td>\n",
       "    </tr>\n",
       "    <tr>\n",
       "      <th>3</th>\n",
       "      <td>37</td>\n",
       "      <td>59</td>\n",
       "      <td>54</td>\n",
       "      <td>59</td>\n",
       "      <td>3</td>\n",
       "      <td>1964.7</td>\n",
       "      <td>2183</td>\n",
       "    </tr>\n",
       "    <tr>\n",
       "      <th>4</th>\n",
       "      <td>28</td>\n",
       "      <td>120</td>\n",
       "      <td>95</td>\n",
       "      <td>61</td>\n",
       "      <td>1</td>\n",
       "      <td>3024.0</td>\n",
       "      <td>3360</td>\n",
       "    </tr>\n",
       "  </tbody>\n",
       "</table>\n",
       "</div>"
      ],
      "text/plain": [
       "   time  speed  age_driver  driver_experience  number_of_passangers  distance  \\\n",
       "0    14     91          78                 10                     2    1146.6   \n",
       "1    27    183         102                 33                     2    4446.9   \n",
       "2     3    146          53                 44                     2     394.2   \n",
       "3    37     59          54                 59                     3    1964.7   \n",
       "4    28    120          95                 61                     1    3024.0   \n",
       "\n",
       "   mult  \n",
       "0  1274  \n",
       "1  4941  \n",
       "2   438  \n",
       "3  2183  \n",
       "4  3360  "
      ]
     },
     "execution_count": 52,
     "metadata": {},
     "output_type": "execute_result"
    }
   ],
   "source": [
    "data['mult'] = data['time']*data['speed']  \n",
    "data.head()"
   ]
  },
  {
   "cell_type": "code",
   "execution_count": 53,
   "metadata": {},
   "outputs": [
    {
     "name": "stdout",
     "output_type": "stream",
     "text": [
      "Weights: [0.9]\n",
      "Bias: 1.8189894035458565e-12\n",
      "Error:9.36211108637508e-13\n"
     ]
    }
   ],
   "source": [
    "X=data[['mult']]\n",
    "Y=data['distance']\n",
    "reg=LinearRegression().fit(X,Y)\n",
    "print('Weights: {}'.format(reg.coef_))\n",
    "print('Bias: {}'.format(reg.intercept_))\n",
    "\n",
    "pred_values=reg.predict(data[['mult']])\n",
    "print('Error:{}'. format (mean_absolute_error(pred_values,Y)))"
   ]
  },
  {
   "cell_type": "code",
   "execution_count": null,
   "metadata": {},
   "outputs": [],
   "source": []
  }
 ],
 "metadata": {
  "kernelspec": {
   "display_name": "Python 3",
   "language": "python",
   "name": "python3"
  },
  "language_info": {
   "codemirror_mode": {
    "name": "ipython",
    "version": 3
   },
   "file_extension": ".py",
   "mimetype": "text/x-python",
   "name": "python",
   "nbconvert_exporter": "python",
   "pygments_lexer": "ipython3",
   "version": "3.7.3"
  }
 },
 "nbformat": 4,
 "nbformat_minor": 2
}
