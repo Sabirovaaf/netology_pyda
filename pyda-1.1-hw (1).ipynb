{
 "cells": [
  {
   "cell_type": "markdown",
   "metadata": {},
   "source": [
    "**Задание 1**. Даны 2 строки: *long_phrase* и *short_phrase*. \n",
    "Напишите код, который проверяет действительно ли длинная фраза *long_phrase* длиннее короткой *short_phrase*. И выводит *True* или *False* в зависимости от результата сравнения."
   ]
  },
  {
   "cell_type": "code",
   "execution_count": 1,
   "metadata": {},
   "outputs": [],
   "source": [
    "long_phrase = 'Насколько проще было бы писать программы, если бы не заказчики'\n",
    "short_phrase = '640Кб должно хватить для любых задач. Билл Гейтс (по легенде)'"
   ]
  },
  {
   "cell_type": "code",
   "execution_count": 2,
   "metadata": {},
   "outputs": [
    {
     "data": {
      "text/plain": [
       "True"
      ]
     },
     "execution_count": 2,
     "metadata": {},
     "output_type": "execute_result"
    }
   ],
   "source": [
    "long_phrase = 'Насколько проще было бы писать программы, если бы не заказчики'\n",
    "short_phrase = '640Кб должно хватить для любых задач. Билл Гейтс (по легенде)'\n",
    "len(long_phrase)>len(short_phrase)"
   ]
  },
  {
   "cell_type": "markdown",
   "metadata": {},
   "source": [
    "**Задание 2**. Дано значение объема файла в байтах. Напишите перевод этого значения в мегабайты в формате: \"*Объем файла равен 213.68Mb*\""
   ]
  },
  {
   "cell_type": "code",
   "execution_count": 1,
   "metadata": {},
   "outputs": [
    {
     "name": "stdout",
     "output_type": "stream",
     "text": [
      "Объем файла равен  213.68 Mb\n"
     ]
    }
   ],
   "source": [
    "bytes=213680000\n",
    "print('Объем файла равен ', bytes / 1000000, 'Mb')"
   ]
  },
  {
   "cell_type": "markdown",
   "metadata": {},
   "source": [
    "**Задание 3**. Разработать приложение для определения знака зодиака по дате рождения. Пример:\n",
    "\n",
    "Введите месяц: март\n",
    "\n",
    "Введите число: 6\n",
    "\n",
    "Вывод:\n",
    "Рыбы"
   ]
  },
  {
   "cell_type": "code",
   "execution_count": 46,
   "metadata": {},
   "outputs": [
    {
     "name": "stdout",
     "output_type": "stream",
     "text": [
      "Введите месяц май\n",
      "Введите дату 30\n",
      "Близнецы\n"
     ]
    }
   ],
   "source": [
    "user_input_month=input('Введите месяц ')\n",
    "user_input_date=int(input('Введите дату '))\n",
    "if (user_input_month == 'март' and user_input_date>=21) or (user_input_month == 'апрель' and user_input_date<=20) :\n",
    "    print('Овен')\n",
    "elif (user_input_month == 'апрель' and user_input_date>=21) or (user_input_month == 'май' and user_input_date<=20) :\n",
    "    print('Телец')\n",
    "elif (user_input_month == 'май' and user_input_date>=21) or (user_input_month == 'июнь' and user_input_date<=21) :\n",
    "    print('Близнецы')\n",
    "elif (user_input_month == 'июнь' and user_input_date>=22) or (user_input_month == 'июль' and user_input_date<=22) :\n",
    "    print('Рак')\n",
    "elif (user_input_month == 'июль' and user_input_date>=23) or (user_input_month == 'август' and user_input_date<=23) :\n",
    "    print('Лев')\n",
    "elif (user_input_month == 'август' and user_input_date>=24) or (user_input_month == 'сентябрь' and user_input_date<=23) :\n",
    "    print('Дева')\n",
    "elif (user_input_month == 'сентябрь' and user_input_date>=24) or (user_input_month == 'октябрь' and user_input_date<=23) :\n",
    "    print('Весы')\n",
    "elif (user_input_month == 'октябрь' and user_input_date>=24) or (user_input_month == 'ноябрь' and user_input_date<=22) :\n",
    "    print('Скорпион')\n",
    "elif (user_input_month == 'ноябрь' and user_input_date>=23) or (user_input_month == 'декабрь' and user_input_date<=21) :\n",
    "    print('Стрелец')\n",
    "elif (user_input_month == 'декабрь' and user_input_date>=22) or (user_input_month == 'январь' and user_input_date<=20) :\n",
    "    print('Козерог')\n",
    "elif (user_input_month == 'январь' and user_input_date>=21) or (user_input_month == 'февраль' and user_input_date<=20) :\n",
    "    print('Водолей')\n",
    "elif (user_input_month == 'февраль' and user_input_date>=21) or (user_input_month == 'март' and user_input_date<=20) :\n",
    "    print('Рыбы')\n",
    "else:\n",
    "    print('ошибка')"
   ]
  },
  {
   "cell_type": "markdown",
   "metadata": {},
   "source": [
    "**Задание 4**. Нужно разработать приложение для финансового планирования.\n",
    "Приложение учитывает сколько уходит на ипотеку, \"на жизнь\" и сколько нужно отложить на пенсию.\n",
    "Пользователь вводит:\n",
    "- заработанную плату в месяц.\n",
    "- сколько процентов от ЗП уходит на ипотеку.\n",
    "- сколько процентов от ЗП уходит \"на жизнь\".\n",
    "- сколько раз приходит премия в год.\n",
    "\n",
    "Остальная часть заработанной платы откладывается на пенсию.\n",
    "\n",
    "Также пользователю приходит премия в размере зарплаты, от которой половина уходит на отпуск, а вторая половина откладывается.\n",
    "\n",
    "Программа должна учитывать сколько премий было в год.\n",
    "\n",
    "Нужно вывести сколько денег тратит пользователь на ипотеку и сколько он накопит за год.\n",
    "\n",
    "Пример:\n",
    "\n",
    "Введите заработанную плату в месяц: 100000\n",
    "\n",
    "Введите сколько процентов уходит на ипотеку: 30\n",
    "\n",
    "Введите сколько процентов уходит на жизнь: 50\n",
    "\n",
    "Введите количество премий за год: 2\n",
    "\n",
    "Вывод:\n",
    "На ипотеку было потрачено: 360000 рублей\n",
    "Было накоплено: 340000 рублей"
   ]
  },
  {
   "cell_type": "code",
   "execution_count": 6,
   "metadata": {},
   "outputs": [
    {
     "name": "stdout",
     "output_type": "stream",
     "text": [
      "Заработная плата в месяц 1000000\n",
      "Cколько процентов от ЗП уходит на ипотеку 30\n",
      "Cколько процентов от ЗП уходит \"на жизнь\" 50\n",
      "Сколько раз приходит премия в год2\n",
      "Вывод: \n",
      "На ипотеку было потрачено:  3600000.0 рублей\n",
      "Было накоплено:  3400000.0 рублей\n"
     ]
    }
   ],
   "source": [
    "earnings=int(input('Заработная плата в месяц '))\n",
    "percent_of_credit=int(input('Cколько процентов от ЗП уходит на ипотеку '))\n",
    "percent_of_costs=int(input('Cколько процентов от ЗП уходит \"на жизнь\" '))\n",
    "number_of_premiums=int(input('Сколько раз приходит премия в год'))\n",
    "\n",
    "print('Вывод: ')\n",
    "print('На ипотеку было потрачено: ', earnings * 12 * (percent_of_credit / 100), 'рублей')\n",
    "print('Было накоплено: ', round(earnings * 12 * (1 - ((percent_of_credit + percent_of_costs) / 100))+ earnings * number_of_premiums / 2, 2), 'рублей')"
   ]
  },
  {
   "cell_type": "code",
   "execution_count": null,
   "metadata": {},
   "outputs": [],
   "source": []
  },
  {
   "cell_type": "code",
   "execution_count": null,
   "metadata": {},
   "outputs": [],
   "source": []
  },
  {
   "cell_type": "code",
   "execution_count": null,
   "metadata": {},
   "outputs": [],
   "source": []
  }
 ],
 "metadata": {
  "kernelspec": {
   "display_name": "Python 3",
   "language": "python",
   "name": "python3"
  },
  "language_info": {
   "codemirror_mode": {
    "name": "ipython",
    "version": 3
   },
   "file_extension": ".py",
   "mimetype": "text/x-python",
   "name": "python",
   "nbconvert_exporter": "python",
   "pygments_lexer": "ipython3",
   "version": "3.7.3"
  }
 },
 "nbformat": 4,
 "nbformat_minor": 2
}
