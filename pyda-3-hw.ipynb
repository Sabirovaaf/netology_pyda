{
 "cells": [
  {
   "cell_type": "markdown",
   "metadata": {},
   "source": [
    "## Задание 1"
   ]
  },
  {
   "cell_type": "markdown",
   "metadata": {},
   "source": [
    "Дан список вида:"
   ]
  },
  {
   "cell_type": "code",
   "execution_count": 14,
   "metadata": {},
   "outputs": [],
   "source": [
    "data = [\n",
    "    [13, 25, 23, 34],\n",
    "    [45, 32, 44, 47],\n",
    "    [12, 33, 23, 95],\n",
    "    [13, 53, 34, 35]\n",
    "]"
   ]
  },
  {
   "cell_type": "code",
   "execution_count": 20,
   "metadata": {},
   "outputs": [
    {
     "data": {
      "text/plain": [
       "103"
      ]
     },
     "execution_count": 20,
     "metadata": {},
     "output_type": "execute_result"
    }
   ],
   "source": [
    "def matrix_sum():\n",
    "    n=4\n",
    "    result = sum(data[i][i] for i in range(n))\n",
    "    return result\n",
    "matrix_sum ()"
   ]
  },
  {
   "cell_type": "code",
   "execution_count": 105,
   "metadata": {},
   "outputs": [
    {
     "name": "stdout",
     "output_type": "stream",
     "text": [
      "103\n"
     ]
    }
   ],
   "source": [
    "#вариант без функции\n",
    "result = data [0][0] + data [1][1] + data [2][2] + data [3][3]\n",
    "print (result)"
   ]
  },
  {
   "cell_type": "markdown",
   "metadata": {},
   "source": [
    "Напишите функцию, которая возвращает сумму элементов на диагонали. Т. е. 13+32+23+35."
   ]
  },
  {
   "cell_type": "markdown",
   "metadata": {},
   "source": [
    "## Задание 2"
   ]
  },
  {
   "cell_type": "markdown",
   "metadata": {},
   "source": [
    "Дан список чисел, часть из которых имеют строковый тип или содержат буквы. Напишите функцию, которая возвращает сумму квадратов элементов, которые могут быть числами."
   ]
  },
  {
   "cell_type": "code",
   "execution_count": 36,
   "metadata": {},
   "outputs": [],
   "source": [
    "data = [1, '5', 'abc', 20, '2']"
   ]
  },
  {
   "cell_type": "code",
   "execution_count": 85,
   "metadata": {},
   "outputs": [],
   "source": [
    "list_2 = [nums for nums in data if isinstance(nums, (int, float))]\n",
    "list_3 = [nums for nums in data if isinstance(nums, (str))]\n",
    "del list_3[1]\n",
    "new_numbers = [];\n",
    "for n in list_3:\n",
    "    new_numbers.append(int(n))\n",
    "unit_list = list_2 +  new_numbers"
   ]
  },
  {
   "cell_type": "code",
   "execution_count": 84,
   "metadata": {},
   "outputs": [
    {
     "name": "stdout",
     "output_type": "stream",
     "text": [
      "430\n"
     ]
    }
   ],
   "source": [
    "sum=0\n",
    "for i in unit_list:\n",
    "    sum+=i*i;\n",
    "print(sum)"
   ]
  },
  {
   "cell_type": "markdown",
   "metadata": {},
   "source": [
    "## Задание 3"
   ]
  },
  {
   "cell_type": "markdown",
   "metadata": {},
   "source": [
    "Напишите функцию, возвращающую сумму первых n чисел Фибоначчи."
   ]
  },
  {
   "cell_type": "code",
   "execution_count": 143,
   "metadata": {},
   "outputs": [
    {
     "name": "stdout",
     "output_type": "stream",
     "text": [
      "55\n"
     ]
    }
   ],
   "source": [
    "def fibonacci(n):\n",
    "    if n in (1, 2):\n",
    "        return 1\n",
    "    return fibonacci(n - 1) + fibonacci(n - 2)\n",
    "print(fibonacci(10))"
   ]
  },
  {
   "cell_type": "markdown",
   "metadata": {},
   "source": [
    "## Задание 4"
   ]
  },
  {
   "cell_type": "markdown",
   "metadata": {},
   "source": [
    "Дан набор данных об обучении студентов на курсе программирования, который содержит: \n",
    "1) имя\n",
    "2) фамилию \n",
    "3) пол \n",
    "4) наличие у студента опыта в программировании \n",
    "5) набор оценок за домашние работы \n",
    "6) оценку за итоговую работу.\n",
    "\n",
    "Напишите программу, которая будет принимать команду от пользователя и возвращать соотвествующий результат.\n",
    "Список команд: \n",
    "1 - вывести на экран среднюю оценку за все ДЗ по группе и вывести на экран среднюю оценку за экзамен по группе;\n",
    "2 - вывести среднюю оценку за ДЗ и за экзамен по группе в разрезе пола студентов\n",
    "3 - вывести среднюю оценку за ДЗ и за экзамен в разрезе наличия опыта в программировании у студентов.\n",
    "\n",
    "Прогрмма должна быть полностью декомпозирована на функции (кроме объявления функций и вызова итоговой функции в реализации ничего быть не должно)."
   ]
  },
  {
   "cell_type": "code",
   "execution_count": 6,
   "metadata": {},
   "outputs": [],
   "source": [
    "students_list = [\n",
    "    {'name': 'Василий', 'surname': 'Теркин', 'sex': 'м', 'program_exp': True, 'grade': [8, 8, 9, 10, 9], 'exam': 9},\n",
    "    {'name': 'Мария', 'surname': 'Павлова', 'sex': 'ж', 'program_exp': True, 'grade': [7, 8, 9, 7, 9], 'exam': 8},\n",
    "    {'name': 'Ирина', 'surname': 'Андреева', 'sex': 'ж', 'program_exp': True, 'grade': [10, 9, 8, 10, 10], 'exam': 10},\n",
    "    {'name': 'Татьяна', 'surname': 'Сидорова', 'sex': 'ж', 'program_exp': True, 'grade': [7, 8, 8, 9, 8], 'exam': 8},\n",
    "    {'name': 'Иван', 'surname': 'Васильев', 'sex': 'ж', 'program_exp': True, 'grade': [9, 8, 9, 6, 9], 'exam': 10},\n",
    "    {'name': 'Роман', 'surname': 'Золотарев', 'sex': 'ж', 'program_exp': False, 'grade': [8, 9, 9, 6, 9], 'exam': 10}\n",
    "]"
   ]
  },
  {
   "cell_type": "code",
   "execution_count": 7,
   "metadata": {},
   "outputs": [],
   "source": [
    "def get_average_grades (students):\n",
    "    sum_average_hw = 0\n",
    "    sum_average_ex = 0\n",
    "    for student in students:\n",
    "        sum_average_hw += sum(student['grade']) / len(student['grade'])\n",
    "        sum_average_ex += student['exam']\n",
    "    print('Средняя оценка за ДЗ по группе: ', round(sum_average_hw / len (students), 2))    \n",
    "    print('Средняя оценка за экзамен по группе: ', round(sum_average_ex / len (students), 2))"
   ]
  },
  {
   "cell_type": "code",
   "execution_count": 8,
   "metadata": {},
   "outputs": [
    {
     "name": "stdout",
     "output_type": "stream",
     "text": [
      "Средняя оценка за ДЗ по группе:  8.43\n",
      "Средняя оценка за экзамен по группе:  9.17\n"
     ]
    }
   ],
   "source": [
    "get_average_grades(students_list)"
   ]
  },
  {
   "cell_type": "code",
   "execution_count": 9,
   "metadata": {},
   "outputs": [],
   "source": [
    "def get_average_grades_by_sex (students, sex ='ж'):\n",
    "    sum_average_hw = 0\n",
    "    sum_average_ex = 0\n",
    "    student_counter = 0\n",
    "    for student in students:\n",
    "        if student['sex'] == sex:\n",
    "            sum_average_hw += sum(student['grade']) / len(student['grade'])\n",
    "            sum_average_ex += student['exam']  \n",
    "            student_counter +=1\n",
    "    if sex == 'ж':\n",
    "        print('Средняя оценка за ДЗ у студента женского пола: ', round(sum_average_hw / student_counter, 2)) \n",
    "        print('Средняя оценка за  экзамен у студента женского пола: ', round(sum_average_ex / student_counter, 2)) \n",
    "    else :\n",
    "        print('Средняя оценка за ДЗ у студента мужского пола: ', round(sum_average_hw / student_counter, 2)) \n",
    "        print('Средняя оценка за  экзамен у студента мужского пола: ', round(sum_average_ex / student_counter, 2)) "
   ]
  },
  {
   "cell_type": "code",
   "execution_count": 12,
   "metadata": {},
   "outputs": [
    {
     "name": "stdout",
     "output_type": "stream",
     "text": [
      "Средняя оценка за ДЗ у студента женского пола:  8.36\n",
      "Средняя оценка за  экзамен у студента женского пола:  9.2\n",
      "Средняя оценка за ДЗ у студента мужского пола:  8.8\n",
      "Средняя оценка за  экзамен у студента мужского пола:  9.0\n"
     ]
    }
   ],
   "source": [
    "get_average_grades_by_sex(students_list)\n",
    "get_average_grades_by_sex(students_list, sex = 'м')"
   ]
  },
  {
   "cell_type": "code",
   "execution_count": 13,
   "metadata": {},
   "outputs": [],
   "source": [
    "def get_average_grades_by_exp (students, exp =True):\n",
    "    sum_average_hw = 0\n",
    "    sum_average_ex = 0\n",
    "    student_counter = 0\n",
    "    for student in students:\n",
    "        if student['program_exp'] == exp:\n",
    "            sum_average_hw += sum(student['grade']) / len(student['grade'])\n",
    "            sum_average_ex += student['exam']  \n",
    "            student_counter +=1\n",
    "    if exp == True:\n",
    "        print('Средняя оценка за ДЗ у студента с опытом: ', round(sum_average_hw / student_counter, 2)) \n",
    "        print('Средняя оценка за  экзамен у студента с опытом: ', round(sum_average_ex / student_counter, 2)) \n",
    "    else:\n",
    "        print('Средняя оценка за ДЗ у студента без опыта: ', round(sum_average_hw / student_counter, 2)) \n",
    "        print('Средняя оценка за  экзамен у студента без опыта: ', round(sum_average_ex / student_counter, 2)) "
   ]
  },
  {
   "cell_type": "code",
   "execution_count": 14,
   "metadata": {},
   "outputs": [
    {
     "name": "stdout",
     "output_type": "stream",
     "text": [
      "Средняя оценка за ДЗ у студента с опытом:  8.48\n",
      "Средняя оценка за  экзамен у студента с опытом:  9.0\n"
     ]
    }
   ],
   "source": [
    "get_average_grades_by_exp(students_list)"
   ]
  },
  {
   "cell_type": "code",
   "execution_count": 15,
   "metadata": {},
   "outputs": [
    {
     "name": "stdout",
     "output_type": "stream",
     "text": [
      "Средняя оценка за ДЗ у студента без опыта:  8.2\n",
      "Средняя оценка за  экзамен у студента без опыта:  10.0\n"
     ]
    }
   ],
   "source": [
    "get_average_grades_by_exp(students_list, exp=False)"
   ]
  },
  {
   "cell_type": "code",
   "execution_count": 2,
   "metadata": {},
   "outputs": [],
   "source": [
    "def main():\n",
    "    while True:\n",
    "        user_input = input ('Введите команду: ')\n",
    "        if user_input == '1':\n",
    "            get_average_grades(students_list)\n",
    "        elif user_input == '2':\n",
    "            get_average_grades_by_sex(students_list)\n",
    "        elif user_input == '3':\n",
    "            get_average_grades_by_sex(students_list, sex = 'м')\n",
    "        elif user_input == '4':\n",
    "            get_average_grades_by_exp(students_list)\n",
    "        elif user_input == '5':\n",
    "            get_average_grades_by_exp(students_list, exp=False)\n",
    "        elif user_input == '0':\n",
    "            print('Конец')\n",
    "            break"
   ]
  },
  {
   "cell_type": "code",
   "execution_count": 3,
   "metadata": {},
   "outputs": [
    {
     "name": "stdout",
     "output_type": "stream",
     "text": [
      "Введите команду: 0\n",
      "Конец\n"
     ]
    }
   ],
   "source": [
    "main()"
   ]
  },
  {
   "cell_type": "code",
   "execution_count": null,
   "metadata": {},
   "outputs": [],
   "source": []
  }
 ],
 "metadata": {
  "kernelspec": {
   "display_name": "Python 3",
   "language": "python",
   "name": "python3"
  }
 },
 "nbformat": 4,
 "nbformat_minor": 2
}
